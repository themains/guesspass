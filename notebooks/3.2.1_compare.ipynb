{
 "cells": [
  {
   "cell_type": "code",
   "execution_count": 1,
   "id": "f90342f9",
   "metadata": {},
   "outputs": [],
   "source": [
    "import pandas as pd"
   ]
  },
  {
   "cell_type": "code",
   "execution_count": 2,
   "id": "9cfec077",
   "metadata": {},
   "outputs": [],
   "source": [
    "model_res = pd.read_csv(\"../results/9g_results.csv\")\n",
    "train_lookup = pd.read_csv(\"../results/train_lookup_results.csv\")"
   ]
  },
  {
   "cell_type": "code",
   "execution_count": 3,
   "id": "f6999eab",
   "metadata": {},
   "outputs": [
    {
     "data": {
      "text/html": [
       "<div>\n",
       "<style scoped>\n",
       "    .dataframe tbody tr th:only-of-type {\n",
       "        vertical-align: middle;\n",
       "    }\n",
       "\n",
       "    .dataframe tbody tr th {\n",
       "        vertical-align: top;\n",
       "    }\n",
       "\n",
       "    .dataframe thead th {\n",
       "        text-align: right;\n",
       "    }\n",
       "</style>\n",
       "<table border=\"1\" class=\"dataframe\">\n",
       "  <thead>\n",
       "    <tr style=\"text-align: right;\">\n",
       "      <th></th>\n",
       "      <th>name</th>\n",
       "      <th>password</th>\n",
       "      <th>best_pred_pass</th>\n",
       "      <th>avg_edit_dist</th>\n",
       "      <th>min_distance</th>\n",
       "      <th>user_pass_min_dist</th>\n",
       "      <th>top_100_best_pass</th>\n",
       "      <th>top_100_avg_edit_dist</th>\n",
       "      <th>top_100_min_distance</th>\n",
       "    </tr>\n",
       "  </thead>\n",
       "  <tbody>\n",
       "    <tr>\n",
       "      <th>0</th>\n",
       "      <td>jinkies_0@hotmail.com</td>\n",
       "      <td>jinkies</td>\n",
       "      <td>jinkies</td>\n",
       "      <td>3.246154</td>\n",
       "      <td>0</td>\n",
       "      <td>2</td>\n",
       "      <td>tinkle</td>\n",
       "      <td>7.35</td>\n",
       "      <td>3</td>\n",
       "    </tr>\n",
       "    <tr>\n",
       "      <th>1</th>\n",
       "      <td>leonid-lebedev00@rambler.ru</td>\n",
       "      <td>leonid</td>\n",
       "      <td>leonid</td>\n",
       "      <td>3.622222</td>\n",
       "      <td>0</td>\n",
       "      <td>10</td>\n",
       "      <td>19weed</td>\n",
       "      <td>6.90</td>\n",
       "      <td>5</td>\n",
       "    </tr>\n",
       "    <tr>\n",
       "      <th>2</th>\n",
       "      <td>cheyen1@hotmail.fr</td>\n",
       "      <td>cheyen</td>\n",
       "      <td>cheyen</td>\n",
       "      <td>2.333333</td>\n",
       "      <td>0</td>\n",
       "      <td>1</td>\n",
       "      <td>)ryan</td>\n",
       "      <td>6.77</td>\n",
       "      <td>4</td>\n",
       "    </tr>\n",
       "    <tr>\n",
       "      <th>3</th>\n",
       "      <td>niknak_niknak@aol.com</td>\n",
       "      <td>niknak</td>\n",
       "      <td>niknak</td>\n",
       "      <td>2.800000</td>\n",
       "      <td>0</td>\n",
       "      <td>7</td>\n",
       "      <td>)ryan</td>\n",
       "      <td>7.00</td>\n",
       "      <td>5</td>\n",
       "    </tr>\n",
       "    <tr>\n",
       "      <th>4</th>\n",
       "      <td>ali-sel@mail.ru</td>\n",
       "      <td>alisel</td>\n",
       "      <td>alisel</td>\n",
       "      <td>2.929825</td>\n",
       "      <td>0</td>\n",
       "      <td>1</td>\n",
       "      <td>abc123</td>\n",
       "      <td>6.73</td>\n",
       "      <td>5</td>\n",
       "    </tr>\n",
       "  </tbody>\n",
       "</table>\n",
       "</div>"
      ],
      "text/plain": [
       "                          name password best_pred_pass  avg_edit_dist  \\\n",
       "0        jinkies_0@hotmail.com  jinkies        jinkies       3.246154   \n",
       "1  leonid-lebedev00@rambler.ru   leonid         leonid       3.622222   \n",
       "2           cheyen1@hotmail.fr   cheyen         cheyen       2.333333   \n",
       "3        niknak_niknak@aol.com   niknak         niknak       2.800000   \n",
       "4              ali-sel@mail.ru   alisel         alisel       2.929825   \n",
       "\n",
       "   min_distance  user_pass_min_dist top_100_best_pass  top_100_avg_edit_dist  \\\n",
       "0             0                   2            tinkle                   7.35   \n",
       "1             0                  10            19weed                   6.90   \n",
       "2             0                   1             )ryan                   6.77   \n",
       "3             0                   7             )ryan                   7.00   \n",
       "4             0                   1            abc123                   6.73   \n",
       "\n",
       "   top_100_min_distance  \n",
       "0                     3  \n",
       "1                     5  \n",
       "2                     4  \n",
       "3                     5  \n",
       "4                     5  "
      ]
     },
     "execution_count": 3,
     "metadata": {},
     "output_type": "execute_result"
    }
   ],
   "source": [
    "model_res.head()"
   ]
  },
  {
   "cell_type": "code",
   "execution_count": 4,
   "id": "5ea421fa",
   "metadata": {},
   "outputs": [
    {
     "data": {
      "text/plain": [
       "9988"
      ]
     },
     "execution_count": 4,
     "metadata": {},
     "output_type": "execute_result"
    }
   ],
   "source": [
    "model_res['name'].nunique()"
   ]
  },
  {
   "cell_type": "code",
   "execution_count": 5,
   "id": "5b94e8c1",
   "metadata": {},
   "outputs": [
    {
     "data": {
      "text/plain": [
       "(9981, 9)"
      ]
     },
     "execution_count": 5,
     "metadata": {},
     "output_type": "execute_result"
    }
   ],
   "source": [
    "model_res.drop_duplicates(subset='name', keep=False, inplace = True)\n",
    "model_res.shape"
   ]
  },
  {
   "cell_type": "code",
   "execution_count": 6,
   "id": "d16e596a",
   "metadata": {},
   "outputs": [
    {
     "data": {
      "text/html": [
       "<div>\n",
       "<style scoped>\n",
       "    .dataframe tbody tr th:only-of-type {\n",
       "        vertical-align: middle;\n",
       "    }\n",
       "\n",
       "    .dataframe tbody tr th {\n",
       "        vertical-align: top;\n",
       "    }\n",
       "\n",
       "    .dataframe thead th {\n",
       "        text-align: right;\n",
       "    }\n",
       "</style>\n",
       "<table border=\"1\" class=\"dataframe\">\n",
       "  <thead>\n",
       "    <tr style=\"text-align: right;\">\n",
       "      <th></th>\n",
       "      <th>name</th>\n",
       "      <th>min</th>\n",
       "      <th>mean</th>\n",
       "      <th>actual</th>\n",
       "      <th>best_lookup</th>\n",
       "    </tr>\n",
       "  </thead>\n",
       "  <tbody>\n",
       "    <tr>\n",
       "      <th>0</th>\n",
       "      <td>111111111@gmail.com</td>\n",
       "      <td>3</td>\n",
       "      <td>5.62000</td>\n",
       "      <td>angel</td>\n",
       "      <td>yankee</td>\n",
       "    </tr>\n",
       "    <tr>\n",
       "      <th>1</th>\n",
       "      <td>11@mail.ru</td>\n",
       "      <td>5</td>\n",
       "      <td>8.96000</td>\n",
       "      <td>129679326</td>\n",
       "      <td>31496321</td>\n",
       "    </tr>\n",
       "    <tr>\n",
       "      <th>2</th>\n",
       "      <td>11xxaidanxx11@yahoo.com</td>\n",
       "      <td>3</td>\n",
       "      <td>5.75000</td>\n",
       "      <td>11stealer11111</td>\n",
       "      <td>21stealer111</td>\n",
       "    </tr>\n",
       "    <tr>\n",
       "      <th>3</th>\n",
       "      <td>123123@live.com</td>\n",
       "      <td>5</td>\n",
       "      <td>7.22807</td>\n",
       "      <td>danielle</td>\n",
       "      <td>bill</td>\n",
       "    </tr>\n",
       "    <tr>\n",
       "      <th>4</th>\n",
       "      <td>123456@qq.com</td>\n",
       "      <td>4</td>\n",
       "      <td>7.57000</td>\n",
       "      <td>8516623</td>\n",
       "      <td>891212</td>\n",
       "    </tr>\n",
       "  </tbody>\n",
       "</table>\n",
       "</div>"
      ],
      "text/plain": [
       "                      name  min     mean          actual   best_lookup\n",
       "0      111111111@gmail.com    3  5.62000           angel        yankee\n",
       "1               11@mail.ru    5  8.96000       129679326      31496321\n",
       "2  11xxaidanxx11@yahoo.com    3  5.75000  11stealer11111  21stealer111\n",
       "3          123123@live.com    5  7.22807        danielle          bill\n",
       "4            123456@qq.com    4  7.57000         8516623        891212"
      ]
     },
     "execution_count": 6,
     "metadata": {},
     "output_type": "execute_result"
    }
   ],
   "source": [
    "train_lookup.drop_duplicates(subset='name', keep=False, inplace = True)\n",
    "train_lookup.head()"
   ]
  },
  {
   "cell_type": "code",
   "execution_count": 7,
   "id": "6d7961a5",
   "metadata": {
    "scrolled": true
   },
   "outputs": [
    {
     "data": {
      "text/html": [
       "<div>\n",
       "<style scoped>\n",
       "    .dataframe tbody tr th:only-of-type {\n",
       "        vertical-align: middle;\n",
       "    }\n",
       "\n",
       "    .dataframe tbody tr th {\n",
       "        vertical-align: top;\n",
       "    }\n",
       "\n",
       "    .dataframe thead th {\n",
       "        text-align: right;\n",
       "    }\n",
       "</style>\n",
       "<table border=\"1\" class=\"dataframe\">\n",
       "  <thead>\n",
       "    <tr style=\"text-align: right;\">\n",
       "      <th></th>\n",
       "      <th>name</th>\n",
       "      <th>password</th>\n",
       "      <th>best_pred_pass</th>\n",
       "      <th>avg_edit_dist</th>\n",
       "      <th>min_distance</th>\n",
       "      <th>user_pass_min_dist</th>\n",
       "      <th>top_100_best_pass</th>\n",
       "      <th>top_100_avg_edit_dist</th>\n",
       "      <th>top_100_min_distance</th>\n",
       "      <th>min</th>\n",
       "      <th>mean</th>\n",
       "      <th>actual</th>\n",
       "      <th>best_lookup</th>\n",
       "    </tr>\n",
       "  </thead>\n",
       "  <tbody>\n",
       "    <tr>\n",
       "      <th>0</th>\n",
       "      <td>cheyen1@hotmail.fr</td>\n",
       "      <td>cheyen</td>\n",
       "      <td>cheyen</td>\n",
       "      <td>2.333333</td>\n",
       "      <td>0</td>\n",
       "      <td>1</td>\n",
       "      <td>)ryan</td>\n",
       "      <td>6.77</td>\n",
       "      <td>4</td>\n",
       "      <td>14</td>\n",
       "      <td>14.0</td>\n",
       "      <td>cheyen</td>\n",
       "      <td>baby_lindseykate</td>\n",
       "    </tr>\n",
       "    <tr>\n",
       "      <th>1</th>\n",
       "      <td>bahman.neekooee@mail.ru</td>\n",
       "      <td>bahman1</td>\n",
       "      <td>bahmann</td>\n",
       "      <td>3.518072</td>\n",
       "      <td>1</td>\n",
       "      <td>9</td>\n",
       "      <td>)ryan</td>\n",
       "      <td>7.15</td>\n",
       "      <td>5</td>\n",
       "      <td>1</td>\n",
       "      <td>8.6</td>\n",
       "      <td>bahman1</td>\n",
       "      <td>bahman</td>\n",
       "    </tr>\n",
       "    <tr>\n",
       "      <th>2</th>\n",
       "      <td>270510@rambler.ru</td>\n",
       "      <td>270510</td>\n",
       "      <td>200510</td>\n",
       "      <td>4.056818</td>\n",
       "      <td>1</td>\n",
       "      <td>0</td>\n",
       "      <td>000000</td>\n",
       "      <td>6.53</td>\n",
       "      <td>4</td>\n",
       "      <td>8</td>\n",
       "      <td>8.0</td>\n",
       "      <td>270510</td>\n",
       "      <td>pasha710751</td>\n",
       "    </tr>\n",
       "    <tr>\n",
       "      <th>3</th>\n",
       "      <td>romagrs@mail.ru</td>\n",
       "      <td>romagr</td>\n",
       "      <td>1omagr</td>\n",
       "      <td>4.231707</td>\n",
       "      <td>1</td>\n",
       "      <td>1</td>\n",
       "      <td>10pace</td>\n",
       "      <td>6.78</td>\n",
       "      <td>5</td>\n",
       "      <td>11</td>\n",
       "      <td>12.0</td>\n",
       "      <td>romagr</td>\n",
       "      <td>romagrs@yandex.ru</td>\n",
       "    </tr>\n",
       "    <tr>\n",
       "      <th>4</th>\n",
       "      <td>jomsjohn@yahoo.com</td>\n",
       "      <td>jomsjohnw</td>\n",
       "      <td>jomsjohn</td>\n",
       "      <td>4.808989</td>\n",
       "      <td>1</td>\n",
       "      <td>1</td>\n",
       "      <td>password</td>\n",
       "      <td>8.81</td>\n",
       "      <td>7</td>\n",
       "      <td>3</td>\n",
       "      <td>3.0</td>\n",
       "      <td>jomsjohnw</td>\n",
       "      <td>jomsjohnasd</td>\n",
       "    </tr>\n",
       "  </tbody>\n",
       "</table>\n",
       "</div>"
      ],
      "text/plain": [
       "                      name   password best_pred_pass  avg_edit_dist  \\\n",
       "0       cheyen1@hotmail.fr     cheyen         cheyen       2.333333   \n",
       "1  bahman.neekooee@mail.ru    bahman1        bahmann       3.518072   \n",
       "2        270510@rambler.ru     270510         200510       4.056818   \n",
       "3          romagrs@mail.ru     romagr         1omagr       4.231707   \n",
       "4       jomsjohn@yahoo.com  jomsjohnw       jomsjohn       4.808989   \n",
       "\n",
       "   min_distance  user_pass_min_dist top_100_best_pass  top_100_avg_edit_dist  \\\n",
       "0             0                   1             )ryan                   6.77   \n",
       "1             1                   9             )ryan                   7.15   \n",
       "2             1                   0            000000                   6.53   \n",
       "3             1                   1            10pace                   6.78   \n",
       "4             1                   1          password                   8.81   \n",
       "\n",
       "   top_100_min_distance  min  mean     actual        best_lookup  \n",
       "0                     4   14  14.0     cheyen   baby_lindseykate  \n",
       "1                     5    1   8.6    bahman1             bahman  \n",
       "2                     4    8   8.0     270510        pasha710751  \n",
       "3                     5   11  12.0     romagr  romagrs@yandex.ru  \n",
       "4                     7    3   3.0  jomsjohnw        jomsjohnasd  "
      ]
     },
     "execution_count": 7,
     "metadata": {},
     "output_type": "execute_result"
    }
   ],
   "source": [
    "comp = pd.merge(model_res, train_lookup, left_on = \"name\", right_on = \"name\")\n",
    "comp.head()"
   ]
  },
  {
   "cell_type": "code",
   "execution_count": 8,
   "id": "92d91495",
   "metadata": {},
   "outputs": [
    {
     "data": {
      "text/plain": [
       "min_distance    7.279002\n",
       "min             6.225638\n",
       "dtype: float64"
      ]
     },
     "execution_count": 8,
     "metadata": {},
     "output_type": "execute_result"
    }
   ],
   "source": [
    "# Compare min_distance of model to min. distance of lookup\n",
    "comp[['min_distance', 'min']].mean()"
   ]
  },
  {
   "cell_type": "code",
   "execution_count": 9,
   "id": "d6570ee7",
   "metadata": {},
   "outputs": [
    {
     "data": {
      "text/plain": [
       "avg_edit_dist    8.625444\n",
       "mean             7.647614\n",
       "dtype: float64"
      ]
     },
     "execution_count": 9,
     "metadata": {},
     "output_type": "execute_result"
    }
   ],
   "source": [
    "comp[['avg_edit_dist', 'mean']].mean()"
   ]
  },
  {
   "cell_type": "code",
   "execution_count": null,
   "id": "aaf83f12",
   "metadata": {},
   "outputs": [],
   "source": []
  }
 ],
 "metadata": {
  "kernelspec": {
   "display_name": "Python 3 (ipykernel)",
   "language": "python",
   "name": "python3"
  },
  "language_info": {
   "codemirror_mode": {
    "name": "ipython",
    "version": 3
   },
   "file_extension": ".py",
   "mimetype": "text/x-python",
   "name": "python",
   "nbconvert_exporter": "python",
   "pygments_lexer": "ipython3",
   "version": "3.9.13"
  }
 },
 "nbformat": 4,
 "nbformat_minor": 5
}
