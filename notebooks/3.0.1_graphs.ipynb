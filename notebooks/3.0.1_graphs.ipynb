{
 "cells": [
  {
   "cell_type": "code",
   "execution_count": 2,
   "id": "4e949085-8c73-4c17-a759-1466c229baf1",
   "metadata": {},
   "outputs": [],
   "source": [
    "import pandas as pd"
   ]
  },
  {
   "cell_type": "code",
   "execution_count": 3,
   "id": "edd189db-1f01-4d6e-b162-3776eb04099e",
   "metadata": {},
   "outputs": [],
   "source": [
    "df = pd.read_csv(\"org_test_results_sorted.csv\")"
   ]
  },
  {
   "cell_type": "code",
   "execution_count": 4,
   "id": "4f48e67c-e801-4e86-ac6c-da38ba129979",
   "metadata": {},
   "outputs": [
    {
     "data": {
      "text/html": [
       "<div>\n",
       "<style scoped>\n",
       "    .dataframe tbody tr th:only-of-type {\n",
       "        vertical-align: middle;\n",
       "    }\n",
       "\n",
       "    .dataframe tbody tr th {\n",
       "        vertical-align: top;\n",
       "    }\n",
       "\n",
       "    .dataframe thead th {\n",
       "        text-align: right;\n",
       "    }\n",
       "</style>\n",
       "<table border=\"1\" class=\"dataframe\">\n",
       "  <thead>\n",
       "    <tr style=\"text-align: right;\">\n",
       "      <th></th>\n",
       "      <th>name</th>\n",
       "      <th>password</th>\n",
       "      <th>best_pred_pass</th>\n",
       "      <th>avg_edit_dist</th>\n",
       "      <th>min_distance</th>\n",
       "    </tr>\n",
       "  </thead>\n",
       "  <tbody>\n",
       "    <tr>\n",
       "      <th>0</th>\n",
       "      <td>jinkies_0@hotmail.com</td>\n",
       "      <td>jinkies</td>\n",
       "      <td>jinkies</td>\n",
       "      <td>3.246154</td>\n",
       "      <td>0</td>\n",
       "    </tr>\n",
       "    <tr>\n",
       "      <th>1</th>\n",
       "      <td>leonid-lebedev00@rambler.ru</td>\n",
       "      <td>leonid</td>\n",
       "      <td>leonid</td>\n",
       "      <td>3.622222</td>\n",
       "      <td>0</td>\n",
       "    </tr>\n",
       "    <tr>\n",
       "      <th>2</th>\n",
       "      <td>cheyen1@hotmail.fr</td>\n",
       "      <td>cheyen</td>\n",
       "      <td>cheyen</td>\n",
       "      <td>2.333333</td>\n",
       "      <td>0</td>\n",
       "    </tr>\n",
       "    <tr>\n",
       "      <th>3</th>\n",
       "      <td>niknak_niknak@aol.com</td>\n",
       "      <td>niknak</td>\n",
       "      <td>niknak</td>\n",
       "      <td>2.800000</td>\n",
       "      <td>0</td>\n",
       "    </tr>\n",
       "    <tr>\n",
       "      <th>4</th>\n",
       "      <td>ali-sel@mail.ru</td>\n",
       "      <td>alisel</td>\n",
       "      <td>alisel</td>\n",
       "      <td>2.929825</td>\n",
       "      <td>0</td>\n",
       "    </tr>\n",
       "  </tbody>\n",
       "</table>\n",
       "</div>"
      ],
      "text/plain": [
       "                          name password best_pred_pass  avg_edit_dist   \n",
       "0        jinkies_0@hotmail.com  jinkies        jinkies       3.246154  \\\n",
       "1  leonid-lebedev00@rambler.ru   leonid         leonid       3.622222   \n",
       "2           cheyen1@hotmail.fr   cheyen         cheyen       2.333333   \n",
       "3        niknak_niknak@aol.com   niknak         niknak       2.800000   \n",
       "4              ali-sel@mail.ru   alisel         alisel       2.929825   \n",
       "\n",
       "   min_distance  \n",
       "0             0  \n",
       "1             0  \n",
       "2             0  \n",
       "3             0  \n",
       "4             0  "
      ]
     },
     "execution_count": 4,
     "metadata": {},
     "output_type": "execute_result"
    }
   ],
   "source": [
    "df.head()"
   ]
  },
  {
   "cell_type": "code",
   "execution_count": 6,
   "id": "72aa02be-5b78-49c0-ad94-436716e1e1ec",
   "metadata": {},
   "outputs": [
    {
     "name": "stdout",
     "output_type": "stream",
     "text": [
      "Username: jinkies_0\n"
     ]
    }
   ],
   "source": [
    "import re\n",
    "\n",
    "def get_username_from_email(email):\n",
    "    match = re.search(r'^([^@]+)@[^@]+$', email)\n",
    "    if match:\n",
    "        return match.group(1)\n",
    "    return None\n",
    "\n",
    "# Example usage\n",
    "email = \"jinkies_0@hotmail.com\"\n",
    "username = get_username_from_email(email)\n",
    "print(f'Username: {username}')"
   ]
  },
  {
   "cell_type": "code",
   "execution_count": 8,
   "id": "c5a783fb-0216-4ddb-97e7-8fa0ee858a75",
   "metadata": {},
   "outputs": [
    {
     "name": "stdout",
     "output_type": "stream",
     "text": [
      "Defaulting to user installation because normal site-packages is not writeable\n",
      "Collecting python-Levenshtein\n",
      "  Downloading python_Levenshtein-0.25.0-py3-none-any.whl (9.4 kB)\n",
      "Collecting Levenshtein==0.25.0\n",
      "  Downloading Levenshtein-0.25.0-cp310-cp310-manylinux_2_17_x86_64.manylinux2014_x86_64.whl (177 kB)\n",
      "\u001b[2K     \u001b[90m━━━━━━━━━━━━━━━━━━━━━━━━━━━━━━━━━━━━━━━\u001b[0m \u001b[32m177.4/177.4 KB\u001b[0m \u001b[31m6.5 MB/s\u001b[0m eta \u001b[36m0:00:00\u001b[0m\n",
      "\u001b[?25hCollecting rapidfuzz<4.0.0,>=3.1.0\n",
      "  Downloading rapidfuzz-3.6.1-cp310-cp310-manylinux_2_17_x86_64.manylinux2014_x86_64.whl (3.4 MB)\n",
      "\u001b[2K     \u001b[90m━━━━━━━━━━━━━━━━━━━━━━━━━━━━━━━━━━━━━━━━\u001b[0m \u001b[32m3.4/3.4 MB\u001b[0m \u001b[31m9.5 MB/s\u001b[0m eta \u001b[36m0:00:00\u001b[0m:00:01\u001b[0m00:01\u001b[0m\n",
      "\u001b[?25hInstalling collected packages: rapidfuzz, Levenshtein, python-Levenshtein\n",
      "Successfully installed Levenshtein-0.25.0 python-Levenshtein-0.25.0 rapidfuzz-3.6.1\n"
     ]
    }
   ],
   "source": [
    "!pip install python-Levenshtein"
   ]
  },
  {
   "cell_type": "code",
   "execution_count": 9,
   "id": "37968f57-844c-43c4-ad1b-b924c9f0b918",
   "metadata": {},
   "outputs": [
    {
     "data": {
      "text/plain": [
       "0"
      ]
     },
     "execution_count": 9,
     "metadata": {},
     "output_type": "execute_result"
    }
   ],
   "source": [
    "from Levenshtein import distance as lev\n",
    "lev(\"123456\", \"123456\")"
   ]
  },
  {
   "cell_type": "code",
   "execution_count": 10,
   "id": "dca800c4-65d2-49ed-9cdb-12d07c179fce",
   "metadata": {},
   "outputs": [],
   "source": [
    "from tqdm.notebook import tqdm\n",
    "from joblib import Parallel, delayed\n",
    "\n",
    "tqdm.pandas()"
   ]
  },
  {
   "cell_type": "markdown",
   "id": "a5ea99b9-476f-4d14-9016-5506c26106b3",
   "metadata": {},
   "source": [
    "## Finding editing distance between username and password"
   ]
  },
  {
   "cell_type": "code",
   "execution_count": 13,
   "id": "26f0eca1-d562-463a-abfa-ccb34b545a61",
   "metadata": {},
   "outputs": [
    {
     "name": "stderr",
     "output_type": "stream",
     "text": [
      "[Parallel(n_jobs=-1)]: Using backend LokyBackend with 10 concurrent workers.\n",
      "[Parallel(n_jobs=-1)]: Done   1 tasks      | elapsed:    0.0s\n",
      "[Parallel(n_jobs=-1)]: Batch computation too fast (0.0100s.) Setting batch_size=2.\n",
      "[Parallel(n_jobs=-1)]: Done   6 tasks      | elapsed:    0.0s\n",
      "[Parallel(n_jobs=-1)]: Done  13 tasks      | elapsed:    0.0s\n",
      "[Parallel(n_jobs=-1)]: Batch computation too fast (0.0242s.) Setting batch_size=4.\n",
      "[Parallel(n_jobs=-1)]: Done  24 tasks      | elapsed:    0.0s\n",
      "[Parallel(n_jobs=-1)]: Done  42 tasks      | elapsed:    0.1s\n",
      "[Parallel(n_jobs=-1)]: Batch computation too fast (0.0225s.) Setting batch_size=8.\n",
      "[Parallel(n_jobs=-1)]: Done  68 tasks      | elapsed:    0.1s\n",
      "[Parallel(n_jobs=-1)]: Done 112 tasks      | elapsed:    0.1s\n",
      "[Parallel(n_jobs=-1)]: Batch computation too fast (0.0384s.) Setting batch_size=16.\n",
      "[Parallel(n_jobs=-1)]: Done 188 tasks      | elapsed:    0.1s\n",
      "[Parallel(n_jobs=-1)]: Done 292 tasks      | elapsed:    0.2s\n",
      "[Parallel(n_jobs=-1)]: Batch computation too fast (0.0248s.) Setting batch_size=32.\n",
      "[Parallel(n_jobs=-1)]: Done 524 tasks      | elapsed:    0.2s\n",
      "[Parallel(n_jobs=-1)]: Batch computation too fast (0.0372s.) Setting batch_size=64.\n",
      "[Parallel(n_jobs=-1)]: Done 908 tasks      | elapsed:    0.3s\n",
      "[Parallel(n_jobs=-1)]: Batch computation too fast (0.0669s.) Setting batch_size=128.\n",
      "[Parallel(n_jobs=-1)]: Done 1644 tasks      | elapsed:    0.5s\n",
      "[Parallel(n_jobs=-1)]: Batch computation too fast (0.1083s.) Setting batch_size=256.\n",
      "[Parallel(n_jobs=-1)]: Done 2924 tasks      | elapsed:    0.8s\n",
      "[Parallel(n_jobs=-1)]: Batch computation too fast (0.1799s.) Setting batch_size=512.\n",
      "[Parallel(n_jobs=-1)]: Done 5612 tasks      | elapsed:    0.9s\n",
      "[Parallel(n_jobs=-1)]: Done 7913 tasks      | elapsed:    0.9s\n",
      "[Parallel(n_jobs=-1)]: Done 8396 tasks      | elapsed:    1.0s\n",
      "[Parallel(n_jobs=-1)]: Done 8879 tasks      | elapsed:    1.0s\n",
      "[Parallel(n_jobs=-1)]: Done 9408 tasks      | elapsed:    1.0s\n",
      "[Parallel(n_jobs=-1)]: Done 10000 out of 10000 | elapsed:    1.0s finished\n"
     ]
    }
   ],
   "source": [
    "def avg_and_min_edit_dist(email, actual_pass):\n",
    "    username = get_username_from_email(email)\n",
    "    return lev(str(username), str(actual_pass))\n",
    "\n",
    "results = Parallel(n_jobs=-1, verbose=10)(delayed(avg_and_min_edit_dist)(row['name'], row['password']) for index, row in df.iterrows())\n",
    "df['user_pass_min_dist'] = pd.DataFrame(results, index=df.index)"
   ]
  },
  {
   "cell_type": "code",
   "execution_count": 14,
   "id": "5ecbca0e-7c56-4cee-849a-24e8f8b853e2",
   "metadata": {},
   "outputs": [
    {
     "data": {
      "text/html": [
       "<div>\n",
       "<style scoped>\n",
       "    .dataframe tbody tr th:only-of-type {\n",
       "        vertical-align: middle;\n",
       "    }\n",
       "\n",
       "    .dataframe tbody tr th {\n",
       "        vertical-align: top;\n",
       "    }\n",
       "\n",
       "    .dataframe thead th {\n",
       "        text-align: right;\n",
       "    }\n",
       "</style>\n",
       "<table border=\"1\" class=\"dataframe\">\n",
       "  <thead>\n",
       "    <tr style=\"text-align: right;\">\n",
       "      <th></th>\n",
       "      <th>name</th>\n",
       "      <th>password</th>\n",
       "      <th>best_pred_pass</th>\n",
       "      <th>avg_edit_dist</th>\n",
       "      <th>min_distance</th>\n",
       "      <th>user_pass_min_dist</th>\n",
       "    </tr>\n",
       "  </thead>\n",
       "  <tbody>\n",
       "    <tr>\n",
       "      <th>0</th>\n",
       "      <td>jinkies_0@hotmail.com</td>\n",
       "      <td>jinkies</td>\n",
       "      <td>jinkies</td>\n",
       "      <td>3.246154</td>\n",
       "      <td>0</td>\n",
       "      <td>2</td>\n",
       "    </tr>\n",
       "    <tr>\n",
       "      <th>1</th>\n",
       "      <td>leonid-lebedev00@rambler.ru</td>\n",
       "      <td>leonid</td>\n",
       "      <td>leonid</td>\n",
       "      <td>3.622222</td>\n",
       "      <td>0</td>\n",
       "      <td>10</td>\n",
       "    </tr>\n",
       "    <tr>\n",
       "      <th>2</th>\n",
       "      <td>cheyen1@hotmail.fr</td>\n",
       "      <td>cheyen</td>\n",
       "      <td>cheyen</td>\n",
       "      <td>2.333333</td>\n",
       "      <td>0</td>\n",
       "      <td>1</td>\n",
       "    </tr>\n",
       "    <tr>\n",
       "      <th>3</th>\n",
       "      <td>niknak_niknak@aol.com</td>\n",
       "      <td>niknak</td>\n",
       "      <td>niknak</td>\n",
       "      <td>2.800000</td>\n",
       "      <td>0</td>\n",
       "      <td>7</td>\n",
       "    </tr>\n",
       "    <tr>\n",
       "      <th>4</th>\n",
       "      <td>ali-sel@mail.ru</td>\n",
       "      <td>alisel</td>\n",
       "      <td>alisel</td>\n",
       "      <td>2.929825</td>\n",
       "      <td>0</td>\n",
       "      <td>1</td>\n",
       "    </tr>\n",
       "  </tbody>\n",
       "</table>\n",
       "</div>"
      ],
      "text/plain": [
       "                          name password best_pred_pass  avg_edit_dist   \n",
       "0        jinkies_0@hotmail.com  jinkies        jinkies       3.246154  \\\n",
       "1  leonid-lebedev00@rambler.ru   leonid         leonid       3.622222   \n",
       "2           cheyen1@hotmail.fr   cheyen         cheyen       2.333333   \n",
       "3        niknak_niknak@aol.com   niknak         niknak       2.800000   \n",
       "4              ali-sel@mail.ru   alisel         alisel       2.929825   \n",
       "\n",
       "   min_distance  user_pass_min_dist  \n",
       "0             0                   2  \n",
       "1             0                  10  \n",
       "2             0                   1  \n",
       "3             0                   7  \n",
       "4             0                   1  "
      ]
     },
     "execution_count": 14,
     "metadata": {},
     "output_type": "execute_result"
    }
   ],
   "source": [
    "df.head()"
   ]
  },
  {
   "cell_type": "code",
   "execution_count": 15,
   "id": "40253e67-11bf-47ed-a887-7826fa054dcb",
   "metadata": {},
   "outputs": [],
   "source": [
    "top_100_df = pd.read_csv(\"data/top_100_pass.csv\")"
   ]
  },
  {
   "cell_type": "code",
   "execution_count": 16,
   "id": "d6edbdfe-8cc2-470b-b050-0e30304a03fb",
   "metadata": {},
   "outputs": [
    {
     "data": {
      "text/html": [
       "<div>\n",
       "<style scoped>\n",
       "    .dataframe tbody tr th:only-of-type {\n",
       "        vertical-align: middle;\n",
       "    }\n",
       "\n",
       "    .dataframe tbody tr th {\n",
       "        vertical-align: top;\n",
       "    }\n",
       "\n",
       "    .dataframe thead th {\n",
       "        text-align: right;\n",
       "    }\n",
       "</style>\n",
       "<table border=\"1\" class=\"dataframe\">\n",
       "  <thead>\n",
       "    <tr style=\"text-align: right;\">\n",
       "      <th></th>\n",
       "      <th>password</th>\n",
       "      <th>count</th>\n",
       "    </tr>\n",
       "  </thead>\n",
       "  <tbody>\n",
       "    <tr>\n",
       "      <th>0</th>\n",
       "      <td>123456</td>\n",
       "      <td>2034268</td>\n",
       "    </tr>\n",
       "    <tr>\n",
       "      <th>1</th>\n",
       "      <td>123456789</td>\n",
       "      <td>1214120</td>\n",
       "    </tr>\n",
       "    <tr>\n",
       "      <th>2</th>\n",
       "      <td>qwerty</td>\n",
       "      <td>988396</td>\n",
       "    </tr>\n",
       "    <tr>\n",
       "      <th>3</th>\n",
       "      <td>password</td>\n",
       "      <td>738200</td>\n",
       "    </tr>\n",
       "    <tr>\n",
       "      <th>4</th>\n",
       "      <td>12345</td>\n",
       "      <td>687856</td>\n",
       "    </tr>\n",
       "  </tbody>\n",
       "</table>\n",
       "</div>"
      ],
      "text/plain": [
       "    password    count\n",
       "0     123456  2034268\n",
       "1  123456789  1214120\n",
       "2     qwerty   988396\n",
       "3   password   738200\n",
       "4      12345   687856"
      ]
     },
     "execution_count": 16,
     "metadata": {},
     "output_type": "execute_result"
    }
   ],
   "source": [
    "top_100_df.head()"
   ]
  },
  {
   "cell_type": "code",
   "execution_count": 22,
   "id": "7ca6d5cf-2f2d-4ae4-9bb7-23f64051900d",
   "metadata": {},
   "outputs": [],
   "source": [
    "top_100_pass = top_100_df['password'].tolist()"
   ]
  },
  {
   "cell_type": "code",
   "execution_count": 24,
   "id": "21ab8a18-27dd-4448-9b88-369bf4bacba5",
   "metadata": {},
   "outputs": [
    {
     "name": "stderr",
     "output_type": "stream",
     "text": [
      "[Parallel(n_jobs=-1)]: Using backend LokyBackend with 10 concurrent workers.\n",
      "[Parallel(n_jobs=-1)]: Done   5 tasks      | elapsed:    0.7s\n",
      "[Parallel(n_jobs=-1)]: Done  12 tasks      | elapsed:    0.7s\n",
      "[Parallel(n_jobs=-1)]: Batch computation too fast (0.1801s.) Setting batch_size=2.\n",
      "[Parallel(n_jobs=-1)]: Done  21 tasks      | elapsed:    0.7s\n",
      "[Parallel(n_jobs=-1)]: Done  30 tasks      | elapsed:    0.7s\n",
      "[Parallel(n_jobs=-1)]: Batch computation too fast (0.0116s.) Setting batch_size=4.\n",
      "[Parallel(n_jobs=-1)]: Done  48 tasks      | elapsed:    0.7s\n",
      "[Parallel(n_jobs=-1)]: Done  69 tasks      | elapsed:    0.7s\n",
      "[Parallel(n_jobs=-1)]: Batch computation too fast (0.0082s.) Setting batch_size=8.\n",
      "[Parallel(n_jobs=-1)]: Done 109 tasks      | elapsed:    0.7s\n",
      "[Parallel(n_jobs=-1)]: Done 165 tasks      | elapsed:    0.7s\n",
      "[Parallel(n_jobs=-1)]: Batch computation too fast (0.0121s.) Setting batch_size=16.\n",
      "[Parallel(n_jobs=-1)]: Done 278 tasks      | elapsed:    0.8s\n",
      "[Parallel(n_jobs=-1)]: Batch computation too fast (0.0198s.) Setting batch_size=32.\n",
      "[Parallel(n_jobs=-1)]: Done 478 tasks      | elapsed:    0.8s\n",
      "[Parallel(n_jobs=-1)]: Batch computation too fast (0.0536s.) Setting batch_size=64.\n",
      "[Parallel(n_jobs=-1)]: Done 800 tasks      | elapsed:    0.9s\n",
      "[Parallel(n_jobs=-1)]: Batch computation too fast (0.0778s.) Setting batch_size=128.\n",
      "[Parallel(n_jobs=-1)]: Done 1408 tasks      | elapsed:    1.1s\n",
      "[Parallel(n_jobs=-1)]: Done 2688 tasks      | elapsed:    1.2s\n",
      "[Parallel(n_jobs=-1)]: Batch computation too fast (0.1568s.) Setting batch_size=256.\n",
      "[Parallel(n_jobs=-1)]: Done 5120 tasks      | elapsed:    1.8s\n",
      "[Parallel(n_jobs=-1)]: Batch computation too fast (0.1912s.) Setting batch_size=512.\n",
      "[Parallel(n_jobs=-1)]: Done 7933 tasks      | elapsed:    1.8s\n",
      "[Parallel(n_jobs=-1)]: Done 8416 tasks      | elapsed:    1.8s\n",
      "[Parallel(n_jobs=-1)]: Done 8945 tasks      | elapsed:    1.9s\n",
      "[Parallel(n_jobs=-1)]: Done 9474 tasks      | elapsed:    1.9s\n",
      "[Parallel(n_jobs=-1)]: Done 10000 out of 10000 | elapsed:    1.9s finished\n"
     ]
    }
   ],
   "source": [
    "def avg_and_min_edit_dist(actual_pass):\n",
    "    edit_distances = [lev(str(actual_pass), str(top_pass)) for top_pass in top_100_pass]\n",
    "    avg_edit_dist = sum(edit_distances) / len(top_100_pass)\n",
    "    min_distance = min(edit_distances)\n",
    "    best_pred_pass = top_100_pass[edit_distances.index(min(edit_distances))]  \n",
    "    return (best_pred_pass, avg_edit_dist, min_distance)\n",
    "\n",
    "results = Parallel(n_jobs=-1, verbose=10)(delayed(avg_and_min_edit_dist)(row['password']) for index, row in df.iterrows())\n",
    "df[['top_100_best_pass', 'top_100_avg_edit_dist', 'top_100_min_distance']] = pd.DataFrame(results, index=df.index)"
   ]
  },
  {
   "cell_type": "code",
   "execution_count": 25,
   "id": "2acc4f46-5068-4c65-9870-b4bb2a2d7526",
   "metadata": {},
   "outputs": [
    {
     "data": {
      "text/html": [
       "<div>\n",
       "<style scoped>\n",
       "    .dataframe tbody tr th:only-of-type {\n",
       "        vertical-align: middle;\n",
       "    }\n",
       "\n",
       "    .dataframe tbody tr th {\n",
       "        vertical-align: top;\n",
       "    }\n",
       "\n",
       "    .dataframe thead th {\n",
       "        text-align: right;\n",
       "    }\n",
       "</style>\n",
       "<table border=\"1\" class=\"dataframe\">\n",
       "  <thead>\n",
       "    <tr style=\"text-align: right;\">\n",
       "      <th></th>\n",
       "      <th>name</th>\n",
       "      <th>password</th>\n",
       "      <th>best_pred_pass</th>\n",
       "      <th>avg_edit_dist</th>\n",
       "      <th>min_distance</th>\n",
       "      <th>user_pass_min_dist</th>\n",
       "      <th>top_100_best_pass</th>\n",
       "      <th>top_100_avg_edit_dist</th>\n",
       "      <th>top_100_min_distance</th>\n",
       "    </tr>\n",
       "  </thead>\n",
       "  <tbody>\n",
       "    <tr>\n",
       "      <th>0</th>\n",
       "      <td>jinkies_0@hotmail.com</td>\n",
       "      <td>jinkies</td>\n",
       "      <td>jinkies</td>\n",
       "      <td>3.246154</td>\n",
       "      <td>0</td>\n",
       "      <td>2</td>\n",
       "      <td>tinkle</td>\n",
       "      <td>7.35</td>\n",
       "      <td>3</td>\n",
       "    </tr>\n",
       "    <tr>\n",
       "      <th>1</th>\n",
       "      <td>leonid-lebedev00@rambler.ru</td>\n",
       "      <td>leonid</td>\n",
       "      <td>leonid</td>\n",
       "      <td>3.622222</td>\n",
       "      <td>0</td>\n",
       "      <td>10</td>\n",
       "      <td>19weed</td>\n",
       "      <td>6.90</td>\n",
       "      <td>5</td>\n",
       "    </tr>\n",
       "    <tr>\n",
       "      <th>2</th>\n",
       "      <td>cheyen1@hotmail.fr</td>\n",
       "      <td>cheyen</td>\n",
       "      <td>cheyen</td>\n",
       "      <td>2.333333</td>\n",
       "      <td>0</td>\n",
       "      <td>1</td>\n",
       "      <td>)ryan</td>\n",
       "      <td>6.77</td>\n",
       "      <td>4</td>\n",
       "    </tr>\n",
       "    <tr>\n",
       "      <th>3</th>\n",
       "      <td>niknak_niknak@aol.com</td>\n",
       "      <td>niknak</td>\n",
       "      <td>niknak</td>\n",
       "      <td>2.800000</td>\n",
       "      <td>0</td>\n",
       "      <td>7</td>\n",
       "      <td>)ryan</td>\n",
       "      <td>7.00</td>\n",
       "      <td>5</td>\n",
       "    </tr>\n",
       "    <tr>\n",
       "      <th>4</th>\n",
       "      <td>ali-sel@mail.ru</td>\n",
       "      <td>alisel</td>\n",
       "      <td>alisel</td>\n",
       "      <td>2.929825</td>\n",
       "      <td>0</td>\n",
       "      <td>1</td>\n",
       "      <td>abc123</td>\n",
       "      <td>6.73</td>\n",
       "      <td>5</td>\n",
       "    </tr>\n",
       "  </tbody>\n",
       "</table>\n",
       "</div>"
      ],
      "text/plain": [
       "                          name password best_pred_pass  avg_edit_dist   \n",
       "0        jinkies_0@hotmail.com  jinkies        jinkies       3.246154  \\\n",
       "1  leonid-lebedev00@rambler.ru   leonid         leonid       3.622222   \n",
       "2           cheyen1@hotmail.fr   cheyen         cheyen       2.333333   \n",
       "3        niknak_niknak@aol.com   niknak         niknak       2.800000   \n",
       "4              ali-sel@mail.ru   alisel         alisel       2.929825   \n",
       "\n",
       "   min_distance  user_pass_min_dist top_100_best_pass  top_100_avg_edit_dist   \n",
       "0             0                   2            tinkle                   7.35  \\\n",
       "1             0                  10            19weed                   6.90   \n",
       "2             0                   1             )ryan                   6.77   \n",
       "3             0                   7             )ryan                   7.00   \n",
       "4             0                   1            abc123                   6.73   \n",
       "\n",
       "   top_100_min_distance  \n",
       "0                     3  \n",
       "1                     5  \n",
       "2                     4  \n",
       "3                     5  \n",
       "4                     5  "
      ]
     },
     "execution_count": 25,
     "metadata": {},
     "output_type": "execute_result"
    }
   ],
   "source": [
    "df.head()"
   ]
  },
  {
   "cell_type": "markdown",
   "id": "0cacb9da-70e2-44ab-958d-0ff4cd76b7fe",
   "metadata": {},
   "source": [
    "## Plotting minimum distance"
   ]
  },
  {
   "cell_type": "code",
   "execution_count": 26,
   "id": "424b24b0-6adb-4e43-a46c-f7e4f65bfe4f",
   "metadata": {},
   "outputs": [],
   "source": [
    "df.to_csv(\"data/org_test_results_final.csv\", index=False)"
   ]
  },
  {
   "cell_type": "code",
   "execution_count": 29,
   "id": "05c0d720-42bc-4e46-8057-d1de9acf8e5f",
   "metadata": {},
   "outputs": [
    {
     "data": {
      "text/plain": [
       "Index(['name', 'password', 'best_pred_pass', 'avg_edit_dist', 'min_distance',\n",
       "       'user_pass_min_dist', 'top_100_best_pass', 'top_100_avg_edit_dist',\n",
       "       'top_100_min_distance'],\n",
       "      dtype='object')"
      ]
     },
     "execution_count": 29,
     "metadata": {},
     "output_type": "execute_result"
    }
   ],
   "source": [
    "df.columns"
   ]
  },
  {
   "cell_type": "code",
   "execution_count": 30,
   "id": "c7188028-49bc-4b32-97ed-f47e6a163cea",
   "metadata": {},
   "outputs": [
    {
     "data": {
      "text/html": [
       "<div>\n",
       "<style scoped>\n",
       "    .dataframe tbody tr th:only-of-type {\n",
       "        vertical-align: middle;\n",
       "    }\n",
       "\n",
       "    .dataframe tbody tr th {\n",
       "        vertical-align: top;\n",
       "    }\n",
       "\n",
       "    .dataframe thead th {\n",
       "        text-align: right;\n",
       "    }\n",
       "</style>\n",
       "<table border=\"1\" class=\"dataframe\">\n",
       "  <thead>\n",
       "    <tr style=\"text-align: right;\">\n",
       "      <th></th>\n",
       "      <th>min_distance</th>\n",
       "      <th>user_pass_min_dist</th>\n",
       "      <th>top_100_min_distance</th>\n",
       "    </tr>\n",
       "  </thead>\n",
       "  <tbody>\n",
       "    <tr>\n",
       "      <th>0</th>\n",
       "      <td>0</td>\n",
       "      <td>2</td>\n",
       "      <td>3</td>\n",
       "    </tr>\n",
       "    <tr>\n",
       "      <th>1</th>\n",
       "      <td>0</td>\n",
       "      <td>10</td>\n",
       "      <td>5</td>\n",
       "    </tr>\n",
       "    <tr>\n",
       "      <th>2</th>\n",
       "      <td>0</td>\n",
       "      <td>1</td>\n",
       "      <td>4</td>\n",
       "    </tr>\n",
       "    <tr>\n",
       "      <th>3</th>\n",
       "      <td>0</td>\n",
       "      <td>7</td>\n",
       "      <td>5</td>\n",
       "    </tr>\n",
       "    <tr>\n",
       "      <th>4</th>\n",
       "      <td>0</td>\n",
       "      <td>1</td>\n",
       "      <td>5</td>\n",
       "    </tr>\n",
       "  </tbody>\n",
       "</table>\n",
       "</div>"
      ],
      "text/plain": [
       "   min_distance  user_pass_min_dist  top_100_min_distance\n",
       "0             0                   2                     3\n",
       "1             0                  10                     5\n",
       "2             0                   1                     4\n",
       "3             0                   7                     5\n",
       "4             0                   1                     5"
      ]
     },
     "execution_count": 30,
     "metadata": {},
     "output_type": "execute_result"
    }
   ],
   "source": [
    "df[['min_distance','user_pass_min_dist','top_100_min_distance']].head()"
   ]
  },
  {
   "cell_type": "code",
   "execution_count": 31,
   "id": "228d224b-4f4d-49e1-a3f3-cbfb2041336b",
   "metadata": {},
   "outputs": [],
   "source": [
    "counts = df[['min_distance','user_pass_min_dist','top_100_min_distance']].apply(pd.Series.value_counts).fillna(0)"
   ]
  },
  {
   "cell_type": "code",
   "execution_count": 32,
   "id": "56e592d4-409c-493d-8606-07fbea1d82ca",
   "metadata": {},
   "outputs": [
    {
     "data": {
      "text/html": [
       "<div>\n",
       "<style scoped>\n",
       "    .dataframe tbody tr th:only-of-type {\n",
       "        vertical-align: middle;\n",
       "    }\n",
       "\n",
       "    .dataframe tbody tr th {\n",
       "        vertical-align: top;\n",
       "    }\n",
       "\n",
       "    .dataframe thead th {\n",
       "        text-align: right;\n",
       "    }\n",
       "</style>\n",
       "<table border=\"1\" class=\"dataframe\">\n",
       "  <thead>\n",
       "    <tr style=\"text-align: right;\">\n",
       "      <th></th>\n",
       "      <th>min_distance</th>\n",
       "      <th>user_pass_min_dist</th>\n",
       "      <th>top_100_min_distance</th>\n",
       "    </tr>\n",
       "  </thead>\n",
       "  <tbody>\n",
       "    <tr>\n",
       "      <th>0</th>\n",
       "      <td>6.0</td>\n",
       "      <td>153.0</td>\n",
       "      <td>471.0</td>\n",
       "    </tr>\n",
       "    <tr>\n",
       "      <th>1</th>\n",
       "      <td>41.0</td>\n",
       "      <td>103.0</td>\n",
       "      <td>115.0</td>\n",
       "    </tr>\n",
       "    <tr>\n",
       "      <th>2</th>\n",
       "      <td>128.0</td>\n",
       "      <td>64.0</td>\n",
       "      <td>175.0</td>\n",
       "    </tr>\n",
       "    <tr>\n",
       "      <th>3</th>\n",
       "      <td>334.0</td>\n",
       "      <td>73.0</td>\n",
       "      <td>536.0</td>\n",
       "    </tr>\n",
       "    <tr>\n",
       "      <th>4</th>\n",
       "      <td>894.0</td>\n",
       "      <td>108.0</td>\n",
       "      <td>1615.0</td>\n",
       "    </tr>\n",
       "    <tr>\n",
       "      <th>5</th>\n",
       "      <td>1754.0</td>\n",
       "      <td>206.0</td>\n",
       "      <td>2033.0</td>\n",
       "    </tr>\n",
       "    <tr>\n",
       "      <th>6</th>\n",
       "      <td>2407.0</td>\n",
       "      <td>520.0</td>\n",
       "      <td>2093.0</td>\n",
       "    </tr>\n",
       "    <tr>\n",
       "      <th>7</th>\n",
       "      <td>1809.0</td>\n",
       "      <td>887.0</td>\n",
       "      <td>1267.0</td>\n",
       "    </tr>\n",
       "    <tr>\n",
       "      <th>8</th>\n",
       "      <td>1124.0</td>\n",
       "      <td>1360.0</td>\n",
       "      <td>698.0</td>\n",
       "    </tr>\n",
       "    <tr>\n",
       "      <th>9</th>\n",
       "      <td>575.0</td>\n",
       "      <td>1274.0</td>\n",
       "      <td>322.0</td>\n",
       "    </tr>\n",
       "    <tr>\n",
       "      <th>10</th>\n",
       "      <td>316.0</td>\n",
       "      <td>1269.0</td>\n",
       "      <td>195.0</td>\n",
       "    </tr>\n",
       "    <tr>\n",
       "      <th>11</th>\n",
       "      <td>176.0</td>\n",
       "      <td>1048.0</td>\n",
       "      <td>150.0</td>\n",
       "    </tr>\n",
       "    <tr>\n",
       "      <th>12</th>\n",
       "      <td>120.0</td>\n",
       "      <td>807.0</td>\n",
       "      <td>102.0</td>\n",
       "    </tr>\n",
       "    <tr>\n",
       "      <th>13</th>\n",
       "      <td>105.0</td>\n",
       "      <td>655.0</td>\n",
       "      <td>60.0</td>\n",
       "    </tr>\n",
       "    <tr>\n",
       "      <th>14</th>\n",
       "      <td>39.0</td>\n",
       "      <td>511.0</td>\n",
       "      <td>33.0</td>\n",
       "    </tr>\n",
       "    <tr>\n",
       "      <th>15</th>\n",
       "      <td>40.0</td>\n",
       "      <td>331.0</td>\n",
       "      <td>18.0</td>\n",
       "    </tr>\n",
       "    <tr>\n",
       "      <th>16</th>\n",
       "      <td>18.0</td>\n",
       "      <td>210.0</td>\n",
       "      <td>16.0</td>\n",
       "    </tr>\n",
       "    <tr>\n",
       "      <th>17</th>\n",
       "      <td>22.0</td>\n",
       "      <td>136.0</td>\n",
       "      <td>9.0</td>\n",
       "    </tr>\n",
       "    <tr>\n",
       "      <th>18</th>\n",
       "      <td>13.0</td>\n",
       "      <td>90.0</td>\n",
       "      <td>14.0</td>\n",
       "    </tr>\n",
       "    <tr>\n",
       "      <th>19</th>\n",
       "      <td>9.0</td>\n",
       "      <td>60.0</td>\n",
       "      <td>5.0</td>\n",
       "    </tr>\n",
       "    <tr>\n",
       "      <th>20</th>\n",
       "      <td>7.0</td>\n",
       "      <td>38.0</td>\n",
       "      <td>11.0</td>\n",
       "    </tr>\n",
       "    <tr>\n",
       "      <th>21</th>\n",
       "      <td>9.0</td>\n",
       "      <td>30.0</td>\n",
       "      <td>5.0</td>\n",
       "    </tr>\n",
       "    <tr>\n",
       "      <th>22</th>\n",
       "      <td>5.0</td>\n",
       "      <td>14.0</td>\n",
       "      <td>6.0</td>\n",
       "    </tr>\n",
       "    <tr>\n",
       "      <th>23</th>\n",
       "      <td>9.0</td>\n",
       "      <td>12.0</td>\n",
       "      <td>6.0</td>\n",
       "    </tr>\n",
       "    <tr>\n",
       "      <th>24</th>\n",
       "      <td>5.0</td>\n",
       "      <td>8.0</td>\n",
       "      <td>5.0</td>\n",
       "    </tr>\n",
       "    <tr>\n",
       "      <th>25</th>\n",
       "      <td>5.0</td>\n",
       "      <td>6.0</td>\n",
       "      <td>10.0</td>\n",
       "    </tr>\n",
       "    <tr>\n",
       "      <th>26</th>\n",
       "      <td>4.0</td>\n",
       "      <td>2.0</td>\n",
       "      <td>2.0</td>\n",
       "    </tr>\n",
       "    <tr>\n",
       "      <th>27</th>\n",
       "      <td>3.0</td>\n",
       "      <td>3.0</td>\n",
       "      <td>2.0</td>\n",
       "    </tr>\n",
       "    <tr>\n",
       "      <th>28</th>\n",
       "      <td>2.0</td>\n",
       "      <td>5.0</td>\n",
       "      <td>4.0</td>\n",
       "    </tr>\n",
       "    <tr>\n",
       "      <th>29</th>\n",
       "      <td>2.0</td>\n",
       "      <td>1.0</td>\n",
       "      <td>3.0</td>\n",
       "    </tr>\n",
       "    <tr>\n",
       "      <th>30</th>\n",
       "      <td>3.0</td>\n",
       "      <td>2.0</td>\n",
       "      <td>3.0</td>\n",
       "    </tr>\n",
       "    <tr>\n",
       "      <th>31</th>\n",
       "      <td>3.0</td>\n",
       "      <td>0.0</td>\n",
       "      <td>4.0</td>\n",
       "    </tr>\n",
       "    <tr>\n",
       "      <th>32</th>\n",
       "      <td>1.0</td>\n",
       "      <td>5.0</td>\n",
       "      <td>1.0</td>\n",
       "    </tr>\n",
       "    <tr>\n",
       "      <th>33</th>\n",
       "      <td>2.0</td>\n",
       "      <td>2.0</td>\n",
       "      <td>1.0</td>\n",
       "    </tr>\n",
       "    <tr>\n",
       "      <th>34</th>\n",
       "      <td>2.0</td>\n",
       "      <td>1.0</td>\n",
       "      <td>2.0</td>\n",
       "    </tr>\n",
       "    <tr>\n",
       "      <th>35</th>\n",
       "      <td>1.0</td>\n",
       "      <td>0.0</td>\n",
       "      <td>0.0</td>\n",
       "    </tr>\n",
       "    <tr>\n",
       "      <th>36</th>\n",
       "      <td>2.0</td>\n",
       "      <td>1.0</td>\n",
       "      <td>3.0</td>\n",
       "    </tr>\n",
       "    <tr>\n",
       "      <th>37</th>\n",
       "      <td>0.0</td>\n",
       "      <td>1.0</td>\n",
       "      <td>1.0</td>\n",
       "    </tr>\n",
       "    <tr>\n",
       "      <th>38</th>\n",
       "      <td>1.0</td>\n",
       "      <td>0.0</td>\n",
       "      <td>1.0</td>\n",
       "    </tr>\n",
       "    <tr>\n",
       "      <th>39</th>\n",
       "      <td>0.0</td>\n",
       "      <td>0.0</td>\n",
       "      <td>1.0</td>\n",
       "    </tr>\n",
       "    <tr>\n",
       "      <th>40</th>\n",
       "      <td>2.0</td>\n",
       "      <td>2.0</td>\n",
       "      <td>0.0</td>\n",
       "    </tr>\n",
       "    <tr>\n",
       "      <th>42</th>\n",
       "      <td>2.0</td>\n",
       "      <td>2.0</td>\n",
       "      <td>2.0</td>\n",
       "    </tr>\n",
       "  </tbody>\n",
       "</table>\n",
       "</div>"
      ],
      "text/plain": [
       "    min_distance  user_pass_min_dist  top_100_min_distance\n",
       "0            6.0               153.0                 471.0\n",
       "1           41.0               103.0                 115.0\n",
       "2          128.0                64.0                 175.0\n",
       "3          334.0                73.0                 536.0\n",
       "4          894.0               108.0                1615.0\n",
       "5         1754.0               206.0                2033.0\n",
       "6         2407.0               520.0                2093.0\n",
       "7         1809.0               887.0                1267.0\n",
       "8         1124.0              1360.0                 698.0\n",
       "9          575.0              1274.0                 322.0\n",
       "10         316.0              1269.0                 195.0\n",
       "11         176.0              1048.0                 150.0\n",
       "12         120.0               807.0                 102.0\n",
       "13         105.0               655.0                  60.0\n",
       "14          39.0               511.0                  33.0\n",
       "15          40.0               331.0                  18.0\n",
       "16          18.0               210.0                  16.0\n",
       "17          22.0               136.0                   9.0\n",
       "18          13.0                90.0                  14.0\n",
       "19           9.0                60.0                   5.0\n",
       "20           7.0                38.0                  11.0\n",
       "21           9.0                30.0                   5.0\n",
       "22           5.0                14.0                   6.0\n",
       "23           9.0                12.0                   6.0\n",
       "24           5.0                 8.0                   5.0\n",
       "25           5.0                 6.0                  10.0\n",
       "26           4.0                 2.0                   2.0\n",
       "27           3.0                 3.0                   2.0\n",
       "28           2.0                 5.0                   4.0\n",
       "29           2.0                 1.0                   3.0\n",
       "30           3.0                 2.0                   3.0\n",
       "31           3.0                 0.0                   4.0\n",
       "32           1.0                 5.0                   1.0\n",
       "33           2.0                 2.0                   1.0\n",
       "34           2.0                 1.0                   2.0\n",
       "35           1.0                 0.0                   0.0\n",
       "36           2.0                 1.0                   3.0\n",
       "37           0.0                 1.0                   1.0\n",
       "38           1.0                 0.0                   1.0\n",
       "39           0.0                 0.0                   1.0\n",
       "40           2.0                 2.0                   0.0\n",
       "42           2.0                 2.0                   2.0"
      ]
     },
     "execution_count": 32,
     "metadata": {},
     "output_type": "execute_result"
    }
   ],
   "source": [
    "counts"
   ]
  },
  {
   "cell_type": "code",
   "execution_count": 38,
   "id": "bb4a1059-c451-460b-b0a8-ba181fd25c4f",
   "metadata": {},
   "outputs": [
    {
     "data": {
      "image/png": "[encoded data removed]",
      "text/plain": [
       "<Figure size 1500x800 with 1 Axes>"
      ]
     },
     "metadata": {},
     "output_type": "display_data"
    }
   ],
   "source": [
    "import pandas as pd\n",
    "import matplotlib.pyplot as plt\n",
    "\n",
    "# Plotting\n",
    "counts.plot(kind='bar', figsize=(15, 8))\n",
    "plt.title('Counts of Unique Values per Column')\n",
    "plt.xlabel('Unique Values')  # Corrected line\n",
    "plt.ylabel('Counts')\n",
    "plt.xticks(rotation=0)  # Keep the-tick labels readable\n",
    "plt.legend(title='Columns')\n",
    "plt.show()"
   ]
  },
  {
   "cell_type": "code",
   "execution_count": 39,
   "id": "3e07b0ba-5d30-4435-aecf-f7f7aa851273",
   "metadata": {},
   "outputs": [
    {
     "data": {
      "image/png": "[encoded data removed]",
      "text/plain": [
       "<Figure size 1500x800 with 1 Axes>"
      ]
     },
     "metadata": {},
     "output_type": "display_data"
    }
   ],
   "source": [
    "counts.plot(kind='line', figsize=(15, 8))\n",
    "plt.title('Counts of Unique Values per Column')\n",
    "plt.xlabel('Unique Values')  # Corrected line\n",
    "plt.ylabel('Counts')\n",
    "plt.xticks(rotation=0)  # Keep the-tick labels readable\n",
    "plt.legend(title='Columns')\n",
    "plt.show()"
   ]
  },
  {
   "cell_type": "code",
   "execution_count": 40,
   "id": "edb81e66-313c-4625-a35b-e8d7dc6b1bb5",
   "metadata": {},
   "outputs": [
    {
     "data": {
      "text/html": [
       "<div>\n",
       "<style scoped>\n",
       "    .dataframe tbody tr th:only-of-type {\n",
       "        vertical-align: middle;\n",
       "    }\n",
       "\n",
       "    .dataframe tbody tr th {\n",
       "        vertical-align: top;\n",
       "    }\n",
       "\n",
       "    .dataframe thead th {\n",
       "        text-align: right;\n",
       "    }\n",
       "</style>\n",
       "<table border=\"1\" class=\"dataframe\">\n",
       "  <thead>\n",
       "    <tr style=\"text-align: right;\">\n",
       "      <th></th>\n",
       "      <th>avg_edit_dist</th>\n",
       "      <th>top_100_min_distance</th>\n",
       "    </tr>\n",
       "  </thead>\n",
       "  <tbody>\n",
       "    <tr>\n",
       "      <th>0</th>\n",
       "      <td>3.246154</td>\n",
       "      <td>3</td>\n",
       "    </tr>\n",
       "    <tr>\n",
       "      <th>1</th>\n",
       "      <td>3.622222</td>\n",
       "      <td>5</td>\n",
       "    </tr>\n",
       "    <tr>\n",
       "      <th>2</th>\n",
       "      <td>2.333333</td>\n",
       "      <td>4</td>\n",
       "    </tr>\n",
       "    <tr>\n",
       "      <th>3</th>\n",
       "      <td>2.800000</td>\n",
       "      <td>5</td>\n",
       "    </tr>\n",
       "    <tr>\n",
       "      <th>4</th>\n",
       "      <td>2.929825</td>\n",
       "      <td>5</td>\n",
       "    </tr>\n",
       "  </tbody>\n",
       "</table>\n",
       "</div>"
      ],
      "text/plain": [
       "   avg_edit_dist  top_100_min_distance\n",
       "0       3.246154                     3\n",
       "1       3.622222                     5\n",
       "2       2.333333                     4\n",
       "3       2.800000                     5\n",
       "4       2.929825                     5"
      ]
     },
     "execution_count": 40,
     "metadata": {},
     "output_type": "execute_result"
    }
   ],
   "source": [
    "df[['avg_edit_dist','top_100_min_distance']].head()"
   ]
  },
  {
   "cell_type": "code",
   "execution_count": 45,
   "id": "9b176f14-0035-4380-a992-b63e190cb057",
   "metadata": {},
   "outputs": [
    {
     "data": {
      "text/plain": [
       "Text(0.5, 1.0, 'Model Comparison')"
      ]
     },
     "execution_count": 45,
     "metadata": {},
     "output_type": "execute_result"
    },
    {
     "data": {
      "image/png": "[encoded data removed]",
      "text/plain": [
       "<Figure size 640x480 with 1 Axes>"
      ]
     },
     "metadata": {},
     "output_type": "display_data"
    }
   ],
   "source": [
    "x = ['Model', 'Top 100']\n",
    "y = [df['avg_edit_dist'].mean(), df['top_100_min_distance'].mean()] \n",
    "\n",
    "plt.bar(x, y)\n",
    "plt.ylabel('Performance')\n",
    "plt.title('Model Comparison')"
   ]
  },
  {
   "cell_type": "code",
   "execution_count": 54,
   "id": "c06153d1-510c-4f5a-aa73-8e94e52d0484",
   "metadata": {},
   "outputs": [
    {
     "data": {
      "text/plain": [
       "2.333333333333333"
      ]
     },
     "execution_count": 54,
     "metadata": {},
     "output_type": "execute_result"
    }
   ],
   "source": [
    "df['avg_edit_dist'].min()"
   ]
  },
  {
   "cell_type": "code",
   "execution_count": 55,
   "id": "54515aac-7330-45d3-9bf6-04cb33bf9947",
   "metadata": {},
   "outputs": [
    {
     "data": {
      "text/plain": [
       "0"
      ]
     },
     "execution_count": 55,
     "metadata": {},
     "output_type": "execute_result"
    }
   ],
   "source": [
    "df['top_100_min_distance'].min()"
   ]
  },
  {
   "cell_type": "code",
   "execution_count": 47,
   "id": "5fc646ca-1358-4e7f-a8b5-ab1ac0db5785",
   "metadata": {},
   "outputs": [
    {
     "data": {
      "text/plain": [
       "43.853932584269664"
      ]
     },
     "execution_count": 47,
     "metadata": {},
     "output_type": "execute_result"
    }
   ],
   "source": [
    "df['avg_edit_dist'].max()"
   ]
  },
  {
   "cell_type": "code",
   "execution_count": 48,
   "id": "624cd578-c728-4946-a9d1-a9fa8bef30db",
   "metadata": {},
   "outputs": [
    {
     "data": {
      "text/plain": [
       "42"
      ]
     },
     "execution_count": 48,
     "metadata": {},
     "output_type": "execute_result"
    }
   ],
   "source": [
    "df['top_100_min_distance'].max()"
   ]
  },
  {
   "cell_type": "code",
   "execution_count": 66,
   "id": "34707177-531c-4438-b4cf-2535e7f4db46",
   "metadata": {},
   "outputs": [
    {
     "data": {
      "text/html": [
       "<div>\n",
       "<style scoped>\n",
       "    .dataframe tbody tr th:only-of-type {\n",
       "        vertical-align: middle;\n",
       "    }\n",
       "\n",
       "    .dataframe tbody tr th {\n",
       "        vertical-align: top;\n",
       "    }\n",
       "\n",
       "    .dataframe thead th {\n",
       "        text-align: right;\n",
       "    }\n",
       "</style>\n",
       "<table border=\"1\" class=\"dataframe\">\n",
       "  <thead>\n",
       "    <tr style=\"text-align: right;\">\n",
       "      <th></th>\n",
       "      <th>name</th>\n",
       "      <th>password</th>\n",
       "      <th>best_pred_pass</th>\n",
       "      <th>avg_edit_dist</th>\n",
       "      <th>min_distance</th>\n",
       "      <th>user_pass_min_dist</th>\n",
       "      <th>top_100_best_pass</th>\n",
       "      <th>top_100_avg_edit_dist</th>\n",
       "      <th>top_100_min_distance</th>\n",
       "      <th>avg_edit_dist_bin</th>\n",
       "      <th>top_100_min_dist_bin</th>\n",
       "    </tr>\n",
       "  </thead>\n",
       "  <tbody>\n",
       "    <tr>\n",
       "      <th>0</th>\n",
       "      <td>jinkies_0@hotmail.com</td>\n",
       "      <td>jinkies</td>\n",
       "      <td>jinkies</td>\n",
       "      <td>3.246154</td>\n",
       "      <td>0</td>\n",
       "      <td>2</td>\n",
       "      <td>tinkle</td>\n",
       "      <td>7.35</td>\n",
       "      <td>3</td>\n",
       "      <td>0-5</td>\n",
       "      <td>0-5</td>\n",
       "    </tr>\n",
       "    <tr>\n",
       "      <th>1</th>\n",
       "      <td>leonid-lebedev00@rambler.ru</td>\n",
       "      <td>leonid</td>\n",
       "      <td>leonid</td>\n",
       "      <td>3.622222</td>\n",
       "      <td>0</td>\n",
       "      <td>10</td>\n",
       "      <td>19weed</td>\n",
       "      <td>6.90</td>\n",
       "      <td>5</td>\n",
       "      <td>0-5</td>\n",
       "      <td>0-5</td>\n",
       "    </tr>\n",
       "    <tr>\n",
       "      <th>2</th>\n",
       "      <td>cheyen1@hotmail.fr</td>\n",
       "      <td>cheyen</td>\n",
       "      <td>cheyen</td>\n",
       "      <td>2.333333</td>\n",
       "      <td>0</td>\n",
       "      <td>1</td>\n",
       "      <td>)ryan</td>\n",
       "      <td>6.77</td>\n",
       "      <td>4</td>\n",
       "      <td>0-5</td>\n",
       "      <td>0-5</td>\n",
       "    </tr>\n",
       "    <tr>\n",
       "      <th>3</th>\n",
       "      <td>niknak_niknak@aol.com</td>\n",
       "      <td>niknak</td>\n",
       "      <td>niknak</td>\n",
       "      <td>2.800000</td>\n",
       "      <td>0</td>\n",
       "      <td>7</td>\n",
       "      <td>)ryan</td>\n",
       "      <td>7.00</td>\n",
       "      <td>5</td>\n",
       "      <td>0-5</td>\n",
       "      <td>0-5</td>\n",
       "    </tr>\n",
       "    <tr>\n",
       "      <th>4</th>\n",
       "      <td>ali-sel@mail.ru</td>\n",
       "      <td>alisel</td>\n",
       "      <td>alisel</td>\n",
       "      <td>2.929825</td>\n",
       "      <td>0</td>\n",
       "      <td>1</td>\n",
       "      <td>abc123</td>\n",
       "      <td>6.73</td>\n",
       "      <td>5</td>\n",
       "      <td>0-5</td>\n",
       "      <td>0-5</td>\n",
       "    </tr>\n",
       "  </tbody>\n",
       "</table>\n",
       "</div>"
      ],
      "text/plain": [
       "                          name password best_pred_pass  avg_edit_dist   \n",
       "0        jinkies_0@hotmail.com  jinkies        jinkies       3.246154  \\\n",
       "1  leonid-lebedev00@rambler.ru   leonid         leonid       3.622222   \n",
       "2           cheyen1@hotmail.fr   cheyen         cheyen       2.333333   \n",
       "3        niknak_niknak@aol.com   niknak         niknak       2.800000   \n",
       "4              ali-sel@mail.ru   alisel         alisel       2.929825   \n",
       "\n",
       "   min_distance  user_pass_min_dist top_100_best_pass  top_100_avg_edit_dist   \n",
       "0             0                   2            tinkle                   7.35  \\\n",
       "1             0                  10            19weed                   6.90   \n",
       "2             0                   1             )ryan                   6.77   \n",
       "3             0                   7             )ryan                   7.00   \n",
       "4             0                   1            abc123                   6.73   \n",
       "\n",
       "   top_100_min_distance avg_edit_dist_bin top_100_min_dist_bin  \n",
       "0                     3               0-5                  0-5  \n",
       "1                     5               0-5                  0-5  \n",
       "2                     4               0-5                  0-5  \n",
       "3                     5               0-5                  0-5  \n",
       "4                     5               0-5                  0-5  "
      ]
     },
     "execution_count": 66,
     "metadata": {},
     "output_type": "execute_result"
    }
   ],
   "source": [
    "df.head()"
   ]
  },
  {
   "cell_type": "code",
   "execution_count": 67,
   "id": "948cdda3-a249-4391-aaa6-9893f517e2b9",
   "metadata": {},
   "outputs": [
    {
     "data": {
      "text/plain": [
       "6.0"
      ]
     },
     "execution_count": 67,
     "metadata": {},
     "output_type": "execute_result"
    }
   ],
   "source": [
    "df['min_distance'].median()"
   ]
  },
  {
   "cell_type": "code",
   "execution_count": 68,
   "id": "2f7c1ecf-eded-4a1d-82c9-95fbdd0cd505",
   "metadata": {},
   "outputs": [
    {
     "data": {
      "text/plain": [
       "10.0"
      ]
     },
     "execution_count": 68,
     "metadata": {},
     "output_type": "execute_result"
    }
   ],
   "source": [
    "df['user_pass_min_dist'].median()"
   ]
  },
  {
   "cell_type": "code",
   "execution_count": 72,
   "id": "2b38c386-7e13-489c-a748-cbb5accb6fee",
   "metadata": {},
   "outputs": [
    {
     "data": {
      "text/plain": [
       "6.0"
      ]
     },
     "execution_count": 72,
     "metadata": {},
     "output_type": "execute_result"
    }
   ],
   "source": [
    "df['top_100_min_distance'].median()"
   ]
  },
  {
   "cell_type": "code",
   "execution_count": 73,
   "id": "46cc6fdf-9f54-420c-9d5f-23d3e599bb9e",
   "metadata": {},
   "outputs": [
    {
     "data": {
      "text/html": [
       "<div>\n",
       "<style scoped>\n",
       "    .dataframe tbody tr th:only-of-type {\n",
       "        vertical-align: middle;\n",
       "    }\n",
       "\n",
       "    .dataframe tbody tr th {\n",
       "        vertical-align: top;\n",
       "    }\n",
       "\n",
       "    .dataframe thead th {\n",
       "        text-align: right;\n",
       "    }\n",
       "</style>\n",
       "<table border=\"1\" class=\"dataframe\">\n",
       "  <thead>\n",
       "    <tr style=\"text-align: right;\">\n",
       "      <th></th>\n",
       "      <th>avg_edit_dist</th>\n",
       "      <th>min_distance</th>\n",
       "      <th>user_pass_min_dist</th>\n",
       "      <th>top_100_avg_edit_dist</th>\n",
       "      <th>top_100_min_distance</th>\n",
       "    </tr>\n",
       "  </thead>\n",
       "  <tbody>\n",
       "    <tr>\n",
       "      <th>count</th>\n",
       "      <td>10000.000000</td>\n",
       "      <td>10000.000000</td>\n",
       "      <td>10000.000000</td>\n",
       "      <td>10000.000000</td>\n",
       "      <td>10000.000000</td>\n",
       "    </tr>\n",
       "    <tr>\n",
       "      <th>mean</th>\n",
       "      <td>7.975304</td>\n",
       "      <td>6.687900</td>\n",
       "      <td>9.973000</td>\n",
       "      <td>8.557824</td>\n",
       "      <td>5.762200</td>\n",
       "    </tr>\n",
       "    <tr>\n",
       "      <th>std</th>\n",
       "      <td>2.806142</td>\n",
       "      <td>2.870874</td>\n",
       "      <td>3.777605</td>\n",
       "      <td>2.763216</td>\n",
       "      <td>3.122567</td>\n",
       "    </tr>\n",
       "    <tr>\n",
       "      <th>min</th>\n",
       "      <td>2.333333</td>\n",
       "      <td>0.000000</td>\n",
       "      <td>0.000000</td>\n",
       "      <td>5.490000</td>\n",
       "      <td>0.000000</td>\n",
       "    </tr>\n",
       "    <tr>\n",
       "      <th>25%</th>\n",
       "      <td>6.483424</td>\n",
       "      <td>5.000000</td>\n",
       "      <td>8.000000</td>\n",
       "      <td>7.100000</td>\n",
       "      <td>4.000000</td>\n",
       "    </tr>\n",
       "    <tr>\n",
       "      <th>50%</th>\n",
       "      <td>7.400000</td>\n",
       "      <td>6.000000</td>\n",
       "      <td>10.000000</td>\n",
       "      <td>7.900000</td>\n",
       "      <td>6.000000</td>\n",
       "    </tr>\n",
       "    <tr>\n",
       "      <th>75%</th>\n",
       "      <td>8.695846</td>\n",
       "      <td>8.000000</td>\n",
       "      <td>12.000000</td>\n",
       "      <td>9.190000</td>\n",
       "      <td>7.000000</td>\n",
       "    </tr>\n",
       "    <tr>\n",
       "      <th>max</th>\n",
       "      <td>43.853933</td>\n",
       "      <td>42.000000</td>\n",
       "      <td>42.000000</td>\n",
       "      <td>44.530000</td>\n",
       "      <td>42.000000</td>\n",
       "    </tr>\n",
       "  </tbody>\n",
       "</table>\n",
       "</div>"
      ],
      "text/plain": [
       "       avg_edit_dist  min_distance  user_pass_min_dist  top_100_avg_edit_dist   \n",
       "count   10000.000000  10000.000000        10000.000000           10000.000000  \\\n",
       "mean        7.975304      6.687900            9.973000               8.557824   \n",
       "std         2.806142      2.870874            3.777605               2.763216   \n",
       "min         2.333333      0.000000            0.000000               5.490000   \n",
       "25%         6.483424      5.000000            8.000000               7.100000   \n",
       "50%         7.400000      6.000000           10.000000               7.900000   \n",
       "75%         8.695846      8.000000           12.000000               9.190000   \n",
       "max        43.853933     42.000000           42.000000              44.530000   \n",
       "\n",
       "       top_100_min_distance  \n",
       "count          10000.000000  \n",
       "mean               5.762200  \n",
       "std                3.122567  \n",
       "min                0.000000  \n",
       "25%                4.000000  \n",
       "50%                6.000000  \n",
       "75%                7.000000  \n",
       "max               42.000000  "
      ]
     },
     "execution_count": 73,
     "metadata": {},
     "output_type": "execute_result"
    }
   ],
   "source": [
    "df.describe()"
   ]
  },
  {
   "cell_type": "code",
   "execution_count": 75,
   "id": "39678d12-44ce-41ce-bec8-315c520bb1af",
   "metadata": {},
   "outputs": [
    {
     "data": {
      "text/plain": [
       "count    9999.000000\n",
       "mean        8.698170\n",
       "std         3.270359\n",
       "min         1.000000\n",
       "25%         7.000000\n",
       "50%         8.000000\n",
       "75%        10.000000\n",
       "max        46.000000\n",
       "Name: password, dtype: float64"
      ]
     },
     "execution_count": 75,
     "metadata": {},
     "output_type": "execute_result"
    }
   ],
   "source": [
    "df['password'].str.len().describe()"
   ]
  },
  {
   "cell_type": "code",
   "execution_count": null,
   "id": "b717ce2e-8f2e-464f-b533-e7ba3b18559c",
   "metadata": {},
   "outputs": [],
   "source": []
  }
 ],
 "metadata": {
  "kernelspec": {
   "display_name": "Python 3 (ipykernel)",
   "language": "python",
   "name": "python3"
  },
  "language_info": {
   "codemirror_mode": {
    "name": "ipython",
    "version": 3
   },
   "file_extension": ".py",
   "mimetype": "text/x-python",
   "name": "python",
   "nbconvert_exporter": "python",
   "pygments_lexer": "ipython3",
   "version": "3.10.6"
  }
 },
 "nbformat": 4,
 "nbformat_minor": 5
}
