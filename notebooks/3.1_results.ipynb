{
 "cells": [
  {
   "cell_type": "code",
   "execution_count": 2,
   "id": "4e949085-8c73-4c17-a759-1466c229baf1",
   "metadata": {},
   "outputs": [],
   "source": [
    "import pandas as pd"
   ]
  },
  {
   "cell_type": "code",
   "execution_count": 3,
   "id": "edd189db-1f01-4d6e-b162-3776eb04099e",
   "metadata": {},
   "outputs": [],
   "source": [
    "df = pd.read_csv(\"org_test_results_sorted.csv\")"
   ]
  },
  {
   "cell_type": "code",
   "execution_count": 4,
   "id": "4f48e67c-e801-4e86-ac6c-da38ba129979",
   "metadata": {},
   "outputs": [
    {
     "data": {
      "text/html": [
       "<div>\n",
       "<style scoped>\n",
       "    .dataframe tbody tr th:only-of-type {\n",
       "        vertical-align: middle;\n",
       "    }\n",
       "\n",
       "    .dataframe tbody tr th {\n",
       "        vertical-align: top;\n",
       "    }\n",
       "\n",
       "    .dataframe thead th {\n",
       "        text-align: right;\n",
       "    }\n",
       "</style>\n",
       "<table border=\"1\" class=\"dataframe\">\n",
       "  <thead>\n",
       "    <tr style=\"text-align: right;\">\n",
       "      <th></th>\n",
       "      <th>name</th>\n",
       "      <th>password</th>\n",
       "      <th>best_pred_pass</th>\n",
       "      <th>avg_edit_dist</th>\n",
       "      <th>min_distance</th>\n",
       "    </tr>\n",
       "  </thead>\n",
       "  <tbody>\n",
       "    <tr>\n",
       "      <th>0</th>\n",
       "      <td>jinkies_0@hotmail.com</td>\n",
       "      <td>jinkies</td>\n",
       "      <td>jinkies</td>\n",
       "      <td>3.246154</td>\n",
       "      <td>0</td>\n",
       "    </tr>\n",
       "    <tr>\n",
       "      <th>1</th>\n",
       "      <td>leonid-lebedev00@rambler.ru</td>\n",
       "      <td>leonid</td>\n",
       "      <td>leonid</td>\n",
       "      <td>3.622222</td>\n",
       "      <td>0</td>\n",
       "    </tr>\n",
       "    <tr>\n",
       "      <th>2</th>\n",
       "      <td>cheyen1@hotmail.fr</td>\n",
       "      <td>cheyen</td>\n",
       "      <td>cheyen</td>\n",
       "      <td>2.333333</td>\n",
       "      <td>0</td>\n",
       "    </tr>\n",
       "    <tr>\n",
       "      <th>3</th>\n",
       "      <td>niknak_niknak@aol.com</td>\n",
       "      <td>niknak</td>\n",
       "      <td>niknak</td>\n",
       "      <td>2.800000</td>\n",
       "      <td>0</td>\n",
       "    </tr>\n",
       "    <tr>\n",
       "      <th>4</th>\n",
       "      <td>ali-sel@mail.ru</td>\n",
       "      <td>alisel</td>\n",
       "      <td>alisel</td>\n",
       "      <td>2.929825</td>\n",
       "      <td>0</td>\n",
       "    </tr>\n",
       "  </tbody>\n",
       "</table>\n",
       "</div>"
      ],
      "text/plain": [
       "                          name password best_pred_pass  avg_edit_dist   \n",
       "0        jinkies_0@hotmail.com  jinkies        jinkies       3.246154  \\\n",
       "1  leonid-lebedev00@rambler.ru   leonid         leonid       3.622222   \n",
       "2           cheyen1@hotmail.fr   cheyen         cheyen       2.333333   \n",
       "3        niknak_niknak@aol.com   niknak         niknak       2.800000   \n",
       "4              ali-sel@mail.ru   alisel         alisel       2.929825   \n",
       "\n",
       "   min_distance  \n",
       "0             0  \n",
       "1             0  \n",
       "2             0  \n",
       "3             0  \n",
       "4             0  "
      ]
     },
     "execution_count": 4,
     "metadata": {},
     "output_type": "execute_result"
    }
   ],
   "source": [
    "df.head()"
   ]
  },
  {
   "cell_type": "code",
   "execution_count": 6,
   "id": "72aa02be-5b78-49c0-ad94-436716e1e1ec",
   "metadata": {},
   "outputs": [
    {
     "name": "stdout",
     "output_type": "stream",
     "text": [
      "Username: jinkies_0\n"
     ]
    }
   ],
   "source": [
    "import re\n",
    "\n",
    "def get_username_from_email(email):\n",
    "    match = re.search(r'^([^@]+)@[^@]+$', email)\n",
    "    if match:\n",
    "        return match.group(1)\n",
    "    return None\n",
    "\n",
    "# Example usage\n",
    "email = \"jinkies_0@hotmail.com\"\n",
    "username = get_username_from_email(email)\n",
    "print(f'Username: {username}')"
   ]
  },
  {
   "cell_type": "code",
   "execution_count": 8,
   "id": "c5a783fb-0216-4ddb-97e7-8fa0ee858a75",
   "metadata": {},
   "outputs": [
    {
     "name": "stdout",
     "output_type": "stream",
     "text": [
      "Defaulting to user installation because normal site-packages is not writeable\n",
      "Collecting python-Levenshtein\n",
      "  Downloading python_Levenshtein-0.25.0-py3-none-any.whl (9.4 kB)\n",
      "Collecting Levenshtein==0.25.0\n",
      "  Downloading Levenshtein-0.25.0-cp310-cp310-manylinux_2_17_x86_64.manylinux2014_x86_64.whl (177 kB)\n",
      "\u001b[2K     \u001b[90m━━━━━━━━━━━━━━━━━━━━━━━━━━━━━━━━━━━━━━━\u001b[0m \u001b[32m177.4/177.4 KB\u001b[0m \u001b[31m6.5 MB/s\u001b[0m eta \u001b[36m0:00:00\u001b[0m\n",
      "\u001b[?25hCollecting rapidfuzz<4.0.0,>=3.1.0\n",
      "  Downloading rapidfuzz-3.6.1-cp310-cp310-manylinux_2_17_x86_64.manylinux2014_x86_64.whl (3.4 MB)\n",
      "\u001b[2K     \u001b[90m━━━━━━━━━━━━━━━━━━━━━━━━━━━━━━━━━━━━━━━━\u001b[0m \u001b[32m3.4/3.4 MB\u001b[0m \u001b[31m9.5 MB/s\u001b[0m eta \u001b[36m0:00:00\u001b[0m:00:01\u001b[0m00:01\u001b[0m\n",
      "\u001b[?25hInstalling collected packages: rapidfuzz, Levenshtein, python-Levenshtein\n",
      "Successfully installed Levenshtein-0.25.0 python-Levenshtein-0.25.0 rapidfuzz-3.6.1\n"
     ]
    }
   ],
   "source": [
    "!pip install python-Levenshtein"
   ]
  },
  {
   "cell_type": "code",
   "execution_count": 9,
   "id": "37968f57-844c-43c4-ad1b-b924c9f0b918",
   "metadata": {},
   "outputs": [
    {
     "data": {
      "text/plain": [
       "0"
      ]
     },
     "execution_count": 9,
     "metadata": {},
     "output_type": "execute_result"
    }
   ],
   "source": [
    "from Levenshtein import distance as lev\n",
    "lev(\"123456\", \"123456\")"
   ]
  },
  {
   "cell_type": "code",
   "execution_count": 10,
   "id": "dca800c4-65d2-49ed-9cdb-12d07c179fce",
   "metadata": {},
   "outputs": [],
   "source": [
    "from tqdm.notebook import tqdm\n",
    "from joblib import Parallel, delayed\n",
    "\n",
    "tqdm.pandas()"
   ]
  },
  {
   "cell_type": "markdown",
   "id": "a5ea99b9-476f-4d14-9016-5506c26106b3",
   "metadata": {},
   "source": [
    "## Finding editing distance between username and password"
   ]
  },
  {
   "cell_type": "code",
   "execution_count": 13,
   "id": "26f0eca1-d562-463a-abfa-ccb34b545a61",
   "metadata": {},
   "outputs": [
    {
     "name": "stderr",
     "output_type": "stream",
     "text": [
      "[Parallel(n_jobs=-1)]: Using backend LokyBackend with 10 concurrent workers.\n",
      "[Parallel(n_jobs=-1)]: Done   1 tasks      | elapsed:    0.0s\n",
      "[Parallel(n_jobs=-1)]: Batch computation too fast (0.0100s.) Setting batch_size=2.\n",
      "[Parallel(n_jobs=-1)]: Done   6 tasks      | elapsed:    0.0s\n",
      "[Parallel(n_jobs=-1)]: Done  13 tasks      | elapsed:    0.0s\n",
      "[Parallel(n_jobs=-1)]: Batch computation too fast (0.0242s.) Setting batch_size=4.\n",
      "[Parallel(n_jobs=-1)]: Done  24 tasks      | elapsed:    0.0s\n",
      "[Parallel(n_jobs=-1)]: Done  42 tasks      | elapsed:    0.1s\n",
      "[Parallel(n_jobs=-1)]: Batch computation too fast (0.0225s.) Setting batch_size=8.\n",
      "[Parallel(n_jobs=-1)]: Done  68 tasks      | elapsed:    0.1s\n",
      "[Parallel(n_jobs=-1)]: Done 112 tasks      | elapsed:    0.1s\n",
      "[Parallel(n_jobs=-1)]: Batch computation too fast (0.0384s.) Setting batch_size=16.\n",
      "[Parallel(n_jobs=-1)]: Done 188 tasks      | elapsed:    0.1s\n",
      "[Parallel(n_jobs=-1)]: Done 292 tasks      | elapsed:    0.2s\n",
      "[Parallel(n_jobs=-1)]: Batch computation too fast (0.0248s.) Setting batch_size=32.\n",
      "[Parallel(n_jobs=-1)]: Done 524 tasks      | elapsed:    0.2s\n",
      "[Parallel(n_jobs=-1)]: Batch computation too fast (0.0372s.) Setting batch_size=64.\n",
      "[Parallel(n_jobs=-1)]: Done 908 tasks      | elapsed:    0.3s\n",
      "[Parallel(n_jobs=-1)]: Batch computation too fast (0.0669s.) Setting batch_size=128.\n",
      "[Parallel(n_jobs=-1)]: Done 1644 tasks      | elapsed:    0.5s\n",
      "[Parallel(n_jobs=-1)]: Batch computation too fast (0.1083s.) Setting batch_size=256.\n",
      "[Parallel(n_jobs=-1)]: Done 2924 tasks      | elapsed:    0.8s\n",
      "[Parallel(n_jobs=-1)]: Batch computation too fast (0.1799s.) Setting batch_size=512.\n",
      "[Parallel(n_jobs=-1)]: Done 5612 tasks      | elapsed:    0.9s\n",
      "[Parallel(n_jobs=-1)]: Done 7913 tasks      | elapsed:    0.9s\n",
      "[Parallel(n_jobs=-1)]: Done 8396 tasks      | elapsed:    1.0s\n",
      "[Parallel(n_jobs=-1)]: Done 8879 tasks      | elapsed:    1.0s\n",
      "[Parallel(n_jobs=-1)]: Done 9408 tasks      | elapsed:    1.0s\n",
      "[Parallel(n_jobs=-1)]: Done 10000 out of 10000 | elapsed:    1.0s finished\n"
     ]
    }
   ],
   "source": [
    "def avg_and_min_edit_dist(email, actual_pass):\n",
    "    username = get_username_from_email(email)\n",
    "    return lev(str(username), str(actual_pass))\n",
    "\n",
    "results = Parallel(n_jobs=-1, verbose=10)(delayed(avg_and_min_edit_dist)(row['name'], row['password']) for index, row in df.iterrows())\n",
    "df['user_pass_min_dist'] = pd.DataFrame(results, index=df.index)"
   ]
  },
  {
   "cell_type": "code",
   "execution_count": 14,
   "id": "5ecbca0e-7c56-4cee-849a-24e8f8b853e2",
   "metadata": {},
   "outputs": [
    {
     "data": {
      "text/html": [
       "<div>\n",
       "<style scoped>\n",
       "    .dataframe tbody tr th:only-of-type {\n",
       "        vertical-align: middle;\n",
       "    }\n",
       "\n",
       "    .dataframe tbody tr th {\n",
       "        vertical-align: top;\n",
       "    }\n",
       "\n",
       "    .dataframe thead th {\n",
       "        text-align: right;\n",
       "    }\n",
       "</style>\n",
       "<table border=\"1\" class=\"dataframe\">\n",
       "  <thead>\n",
       "    <tr style=\"text-align: right;\">\n",
       "      <th></th>\n",
       "      <th>name</th>\n",
       "      <th>password</th>\n",
       "      <th>best_pred_pass</th>\n",
       "      <th>avg_edit_dist</th>\n",
       "      <th>min_distance</th>\n",
       "      <th>user_pass_min_dist</th>\n",
       "    </tr>\n",
       "  </thead>\n",
       "  <tbody>\n",
       "    <tr>\n",
       "      <th>0</th>\n",
       "      <td>jinkies_0@hotmail.com</td>\n",
       "      <td>jinkies</td>\n",
       "      <td>jinkies</td>\n",
       "      <td>3.246154</td>\n",
       "      <td>0</td>\n",
       "      <td>2</td>\n",
       "    </tr>\n",
       "    <tr>\n",
       "      <th>1</th>\n",
       "      <td>leonid-lebedev00@rambler.ru</td>\n",
       "      <td>leonid</td>\n",
       "      <td>leonid</td>\n",
       "      <td>3.622222</td>\n",
       "      <td>0</td>\n",
       "      <td>10</td>\n",
       "    </tr>\n",
       "    <tr>\n",
       "      <th>2</th>\n",
       "      <td>cheyen1@hotmail.fr</td>\n",
       "      <td>cheyen</td>\n",
       "      <td>cheyen</td>\n",
       "      <td>2.333333</td>\n",
       "      <td>0</td>\n",
       "      <td>1</td>\n",
       "    </tr>\n",
       "    <tr>\n",
       "      <th>3</th>\n",
       "      <td>niknak_niknak@aol.com</td>\n",
       "      <td>niknak</td>\n",
       "      <td>niknak</td>\n",
       "      <td>2.800000</td>\n",
       "      <td>0</td>\n",
       "      <td>7</td>\n",
       "    </tr>\n",
       "    <tr>\n",
       "      <th>4</th>\n",
       "      <td>ali-sel@mail.ru</td>\n",
       "      <td>alisel</td>\n",
       "      <td>alisel</td>\n",
       "      <td>2.929825</td>\n",
       "      <td>0</td>\n",
       "      <td>1</td>\n",
       "    </tr>\n",
       "  </tbody>\n",
       "</table>\n",
       "</div>"
      ],
      "text/plain": [
       "                          name password best_pred_pass  avg_edit_dist   \n",
       "0        jinkies_0@hotmail.com  jinkies        jinkies       3.246154  \\\n",
       "1  leonid-lebedev00@rambler.ru   leonid         leonid       3.622222   \n",
       "2           cheyen1@hotmail.fr   cheyen         cheyen       2.333333   \n",
       "3        niknak_niknak@aol.com   niknak         niknak       2.800000   \n",
       "4              ali-sel@mail.ru   alisel         alisel       2.929825   \n",
       "\n",
       "   min_distance  user_pass_min_dist  \n",
       "0             0                   2  \n",
       "1             0                  10  \n",
       "2             0                   1  \n",
       "3             0                   7  \n",
       "4             0                   1  "
      ]
     },
     "execution_count": 14,
     "metadata": {},
     "output_type": "execute_result"
    }
   ],
   "source": [
    "df.head()"
   ]
  },
  {
   "cell_type": "code",
   "execution_count": 15,
   "id": "40253e67-11bf-47ed-a887-7826fa054dcb",
   "metadata": {},
   "outputs": [],
   "source": [
    "top_100_df = pd.read_csv(\"data/top_100_pass.csv\")"
   ]
  },
  {
   "cell_type": "code",
   "execution_count": 16,
   "id": "d6edbdfe-8cc2-470b-b050-0e30304a03fb",
   "metadata": {},
   "outputs": [
    {
     "data": {
      "text/html": [
       "<div>\n",
       "<style scoped>\n",
       "    .dataframe tbody tr th:only-of-type {\n",
       "        vertical-align: middle;\n",
       "    }\n",
       "\n",
       "    .dataframe tbody tr th {\n",
       "        vertical-align: top;\n",
       "    }\n",
       "\n",
       "    .dataframe thead th {\n",
       "        text-align: right;\n",
       "    }\n",
       "</style>\n",
       "<table border=\"1\" class=\"dataframe\">\n",
       "  <thead>\n",
       "    <tr style=\"text-align: right;\">\n",
       "      <th></th>\n",
       "      <th>password</th>\n",
       "      <th>count</th>\n",
       "    </tr>\n",
       "  </thead>\n",
       "  <tbody>\n",
       "    <tr>\n",
       "      <th>0</th>\n",
       "      <td>123456</td>\n",
       "      <td>2034268</td>\n",
       "    </tr>\n",
       "    <tr>\n",
       "      <th>1</th>\n",
       "      <td>123456789</td>\n",
       "      <td>1214120</td>\n",
       "    </tr>\n",
       "    <tr>\n",
       "      <th>2</th>\n",
       "      <td>qwerty</td>\n",
       "      <td>988396</td>\n",
       "    </tr>\n",
       "    <tr>\n",
       "      <th>3</th>\n",
       "      <td>password</td>\n",
       "      <td>738200</td>\n",
       "    </tr>\n",
       "    <tr>\n",
       "      <th>4</th>\n",
       "      <td>12345</td>\n",
       "      <td>687856</td>\n",
       "    </tr>\n",
       "  </tbody>\n",
       "</table>\n",
       "</div>"
      ],
      "text/plain": [
       "    password    count\n",
       "0     123456  2034268\n",
       "1  123456789  1214120\n",
       "2     qwerty   988396\n",
       "3   password   738200\n",
       "4      12345   687856"
      ]
     },
     "execution_count": 16,
     "metadata": {},
     "output_type": "execute_result"
    }
   ],
   "source": [
    "top_100_df.head()"
   ]
  },
  {
   "cell_type": "code",
   "execution_count": 22,
   "id": "7ca6d5cf-2f2d-4ae4-9bb7-23f64051900d",
   "metadata": {},
   "outputs": [],
   "source": [
    "top_100_pass = top_100_df['password'].tolist()"
   ]
  },
  {
   "cell_type": "code",
   "execution_count": 24,
   "id": "21ab8a18-27dd-4448-9b88-369bf4bacba5",
   "metadata": {},
   "outputs": [
    {
     "name": "stderr",
     "output_type": "stream",
     "text": [
      "[Parallel(n_jobs=-1)]: Using backend LokyBackend with 10 concurrent workers.\n",
      "[Parallel(n_jobs=-1)]: Done   5 tasks      | elapsed:    0.7s\n",
      "[Parallel(n_jobs=-1)]: Done  12 tasks      | elapsed:    0.7s\n",
      "[Parallel(n_jobs=-1)]: Batch computation too fast (0.1801s.) Setting batch_size=2.\n",
      "[Parallel(n_jobs=-1)]: Done  21 tasks      | elapsed:    0.7s\n",
      "[Parallel(n_jobs=-1)]: Done  30 tasks      | elapsed:    0.7s\n",
      "[Parallel(n_jobs=-1)]: Batch computation too fast (0.0116s.) Setting batch_size=4.\n",
      "[Parallel(n_jobs=-1)]: Done  48 tasks      | elapsed:    0.7s\n",
      "[Parallel(n_jobs=-1)]: Done  69 tasks      | elapsed:    0.7s\n",
      "[Parallel(n_jobs=-1)]: Batch computation too fast (0.0082s.) Setting batch_size=8.\n",
      "[Parallel(n_jobs=-1)]: Done 109 tasks      | elapsed:    0.7s\n",
      "[Parallel(n_jobs=-1)]: Done 165 tasks      | elapsed:    0.7s\n",
      "[Parallel(n_jobs=-1)]: Batch computation too fast (0.0121s.) Setting batch_size=16.\n",
      "[Parallel(n_jobs=-1)]: Done 278 tasks      | elapsed:    0.8s\n",
      "[Parallel(n_jobs=-1)]: Batch computation too fast (0.0198s.) Setting batch_size=32.\n",
      "[Parallel(n_jobs=-1)]: Done 478 tasks      | elapsed:    0.8s\n",
      "[Parallel(n_jobs=-1)]: Batch computation too fast (0.0536s.) Setting batch_size=64.\n",
      "[Parallel(n_jobs=-1)]: Done 800 tasks      | elapsed:    0.9s\n",
      "[Parallel(n_jobs=-1)]: Batch computation too fast (0.0778s.) Setting batch_size=128.\n",
      "[Parallel(n_jobs=-1)]: Done 1408 tasks      | elapsed:    1.1s\n",
      "[Parallel(n_jobs=-1)]: Done 2688 tasks      | elapsed:    1.2s\n",
      "[Parallel(n_jobs=-1)]: Batch computation too fast (0.1568s.) Setting batch_size=256.\n",
      "[Parallel(n_jobs=-1)]: Done 5120 tasks      | elapsed:    1.8s\n",
      "[Parallel(n_jobs=-1)]: Batch computation too fast (0.1912s.) Setting batch_size=512.\n",
      "[Parallel(n_jobs=-1)]: Done 7933 tasks      | elapsed:    1.8s\n",
      "[Parallel(n_jobs=-1)]: Done 8416 tasks      | elapsed:    1.8s\n",
      "[Parallel(n_jobs=-1)]: Done 8945 tasks      | elapsed:    1.9s\n",
      "[Parallel(n_jobs=-1)]: Done 9474 tasks      | elapsed:    1.9s\n",
      "[Parallel(n_jobs=-1)]: Done 10000 out of 10000 | elapsed:    1.9s finished\n"
     ]
    }
   ],
   "source": [
    "def avg_and_min_edit_dist(actual_pass):\n",
    "    edit_distances = [lev(str(actual_pass), str(top_pass)) for top_pass in top_100_pass]\n",
    "    avg_edit_dist = sum(edit_distances) / len(top_100_pass)\n",
    "    min_distance = min(edit_distances)\n",
    "    best_pred_pass = top_100_pass[edit_distances.index(min(edit_distances))]  \n",
    "    return (best_pred_pass, avg_edit_dist, min_distance)\n",
    "\n",
    "results = Parallel(n_jobs=-1, verbose=10)(delayed(avg_and_min_edit_dist)(row['password']) for index, row in df.iterrows())\n",
    "df[['top_100_best_pass', 'top_100_avg_edit_dist', 'top_100_min_distance']] = pd.DataFrame(results, index=df.index)"
   ]
  },
  {
   "cell_type": "code",
   "execution_count": 25,
   "id": "2acc4f46-5068-4c65-9870-b4bb2a2d7526",
   "metadata": {},
   "outputs": [
    {
     "data": {
      "text/html": [
       "<div>\n",
       "<style scoped>\n",
       "    .dataframe tbody tr th:only-of-type {\n",
       "        vertical-align: middle;\n",
       "    }\n",
       "\n",
       "    .dataframe tbody tr th {\n",
       "        vertical-align: top;\n",
       "    }\n",
       "\n",
       "    .dataframe thead th {\n",
       "        text-align: right;\n",
       "    }\n",
       "</style>\n",
       "<table border=\"1\" class=\"dataframe\">\n",
       "  <thead>\n",
       "    <tr style=\"text-align: right;\">\n",
       "      <th></th>\n",
       "      <th>name</th>\n",
       "      <th>password</th>\n",
       "      <th>best_pred_pass</th>\n",
       "      <th>avg_edit_dist</th>\n",
       "      <th>min_distance</th>\n",
       "      <th>user_pass_min_dist</th>\n",
       "      <th>top_100_best_pass</th>\n",
       "      <th>top_100_avg_edit_dist</th>\n",
       "      <th>top_100_min_distance</th>\n",
       "    </tr>\n",
       "  </thead>\n",
       "  <tbody>\n",
       "    <tr>\n",
       "      <th>0</th>\n",
       "      <td>jinkies_0@hotmail.com</td>\n",
       "      <td>jinkies</td>\n",
       "      <td>jinkies</td>\n",
       "      <td>3.246154</td>\n",
       "      <td>0</td>\n",
       "      <td>2</td>\n",
       "      <td>tinkle</td>\n",
       "      <td>7.35</td>\n",
       "      <td>3</td>\n",
       "    </tr>\n",
       "    <tr>\n",
       "      <th>1</th>\n",
       "      <td>leonid-lebedev00@rambler.ru</td>\n",
       "      <td>leonid</td>\n",
       "      <td>leonid</td>\n",
       "      <td>3.622222</td>\n",
       "      <td>0</td>\n",
       "      <td>10</td>\n",
       "      <td>19weed</td>\n",
       "      <td>6.90</td>\n",
       "      <td>5</td>\n",
       "    </tr>\n",
       "    <tr>\n",
       "      <th>2</th>\n",
       "      <td>cheyen1@hotmail.fr</td>\n",
       "      <td>cheyen</td>\n",
       "      <td>cheyen</td>\n",
       "      <td>2.333333</td>\n",
       "      <td>0</td>\n",
       "      <td>1</td>\n",
       "      <td>)ryan</td>\n",
       "      <td>6.77</td>\n",
       "      <td>4</td>\n",
       "    </tr>\n",
       "    <tr>\n",
       "      <th>3</th>\n",
       "      <td>niknak_niknak@aol.com</td>\n",
       "      <td>niknak</td>\n",
       "      <td>niknak</td>\n",
       "      <td>2.800000</td>\n",
       "      <td>0</td>\n",
       "      <td>7</td>\n",
       "      <td>)ryan</td>\n",
       "      <td>7.00</td>\n",
       "      <td>5</td>\n",
       "    </tr>\n",
       "    <tr>\n",
       "      <th>4</th>\n",
       "      <td>ali-sel@mail.ru</td>\n",
       "      <td>alisel</td>\n",
       "      <td>alisel</td>\n",
       "      <td>2.929825</td>\n",
       "      <td>0</td>\n",
       "      <td>1</td>\n",
       "      <td>abc123</td>\n",
       "      <td>6.73</td>\n",
       "      <td>5</td>\n",
       "    </tr>\n",
       "  </tbody>\n",
       "</table>\n",
       "</div>"
      ],
      "text/plain": [
       "                          name password best_pred_pass  avg_edit_dist   \n",
       "0        jinkies_0@hotmail.com  jinkies        jinkies       3.246154  \\\n",
       "1  leonid-lebedev00@rambler.ru   leonid         leonid       3.622222   \n",
       "2           cheyen1@hotmail.fr   cheyen         cheyen       2.333333   \n",
       "3        niknak_niknak@aol.com   niknak         niknak       2.800000   \n",
       "4              ali-sel@mail.ru   alisel         alisel       2.929825   \n",
       "\n",
       "   min_distance  user_pass_min_dist top_100_best_pass  top_100_avg_edit_dist   \n",
       "0             0                   2            tinkle                   7.35  \\\n",
       "1             0                  10            19weed                   6.90   \n",
       "2             0                   1             )ryan                   6.77   \n",
       "3             0                   7             )ryan                   7.00   \n",
       "4             0                   1            abc123                   6.73   \n",
       "\n",
       "   top_100_min_distance  \n",
       "0                     3  \n",
       "1                     5  \n",
       "2                     4  \n",
       "3                     5  \n",
       "4                     5  "
      ]
     },
     "execution_count": 25,
     "metadata": {},
     "output_type": "execute_result"
    }
   ],
   "source": [
    "df.head()"
   ]
  },
  {
   "cell_type": "code",
   "execution_count": 26,
   "id": "424b24b0-6adb-4e43-a46c-f7e4f65bfe4f",
   "metadata": {},
   "outputs": [],
   "source": [
    "df.to_csv(\"data/org_test_results_final.csv\", index=False)"
   ]
  },
  {
   "cell_type": "code",
   "execution_count": null,
   "id": "c7188028-49bc-4b32-97ed-f47e6a163cea",
   "metadata": {},
   "outputs": [],
   "source": []
  }
 ],
 "metadata": {
  "kernelspec": {
   "display_name": "Python 3 (ipykernel)",
   "language": "python",
   "name": "python3"
  },
  "language_info": {
   "codemirror_mode": {
    "name": "ipython",
    "version": 3
   },
   "file_extension": ".py",
   "mimetype": "text/x-python",
   "name": "python",
   "nbconvert_exporter": "python",
   "pygments_lexer": "ipython3",
   "version": "3.10.6"
  }
 },
 "nbformat": 4,
 "nbformat_minor": 5
}
