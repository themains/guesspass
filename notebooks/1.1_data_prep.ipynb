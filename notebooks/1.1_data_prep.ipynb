{
 "cells": [
  {
   "cell_type": "code",
   "execution_count": null,
   "id": "a57bcde9-31c6-492d-ac04-a6ed2bdca388",
   "metadata": {},
   "outputs": [],
   "source": [
    "# strip out all @domain.com \n",
    "perl -pe 's/^(.*?)@.*,(.*)$/\\1,\\2/g' comb_out.csv > comb_username_pass.csv\n",
    "\n",
    "# sort by username and get count\n",
    "cut -d ',' -f 1  comb_username_pass.csv | sort | uniq -c | sort -nr > sorted_users.txt\n",
    "\n",
    "# get usernames which repeated more than 100\n",
    "awk '$1>100' sorted_users.txt > sorted_users_more_100.txt\n",
    "\n",
    "# get those usernames to seperate file\n",
    "awk '{print $2}' sorted_users_more_100.txt > sorted_users_more_100_only_names.txt\n",
    "\n",
    "# create regex for these user names so we get exact match \n",
    "sed -i 's/\\(^.*$\\)/^\\\\b\\1,\\\\b/g' sorted_users_more_100_only_names.txt\n",
    "\n",
    "# chunk into multiple files (or else causing memory issues)\n",
    "split -l 10000 sorted_users_more_100_only_names.txt chunked\n",
    "\n",
    "# this is to make sure that we remove any binary data\n",
    "strings comb_username_pass.csv > user_pass_clean.csv\n",
    "\n",
    "# now search using each chunk file\n",
    "for i in chunked*; do\n",
    "grep -E -f \"$i\" user_pass_clean.csv >> final_users_more_100.csv\n",
    "rm \"$i\"\n",
    "done\n",
    "\n",
    "# some usernames have comma in it so clean them up\n",
    "awk -F ',' 'NF==2' final_users_more_100.csv > final_users_more_100_clean.csv"
   ]
  },
  {
   "cell_type": "code",
   "execution_count": 13,
   "id": "08c61575-73ea-421f-a50a-da8f832dab03",
   "metadata": {},
   "outputs": [],
   "source": [
    "import pandas as pd\n",
    "from sklearn.model_selection import train_test_split\n",
    "\n",
    "# Load your data (replace 'final_users_more_100.csv' with your file path)\n",
    "df = pd.read_csv('data/final_users_more_100_clean.csv', names=['username','pass'], on_bad_lines=\"skip\")"
   ]
  },
  {
   "cell_type": "code",
   "execution_count": 14,
   "id": "80c1863e-c2fc-4dcb-a7b8-2c322fa9f7ec",
   "metadata": {},
   "outputs": [
    {
     "data": {
      "text/plain": [
       "(277488354, 2)"
      ]
     },
     "execution_count": 14,
     "metadata": {},
     "output_type": "execute_result"
    }
   ],
   "source": [
    "df.shape"
   ]
  },
  {
   "cell_type": "code",
   "execution_count": 15,
   "id": "b44117f1-99c0-4f7a-89f8-2fbc3a922949",
   "metadata": {},
   "outputs": [
    {
     "data": {
      "text/html": [
       "<div>\n",
       "<style scoped>\n",
       "    .dataframe tbody tr th:only-of-type {\n",
       "        vertical-align: middle;\n",
       "    }\n",
       "\n",
       "    .dataframe tbody tr th {\n",
       "        vertical-align: top;\n",
       "    }\n",
       "\n",
       "    .dataframe thead th {\n",
       "        text-align: right;\n",
       "    }\n",
       "</style>\n",
       "<table border=\"1\" class=\"dataframe\">\n",
       "  <thead>\n",
       "    <tr style=\"text-align: right;\">\n",
       "      <th></th>\n",
       "      <th>username</th>\n",
       "      <th>pass</th>\n",
       "    </tr>\n",
       "  </thead>\n",
       "  <tbody>\n",
       "    <tr>\n",
       "      <th>0</th>\n",
       "      <td>1001aa</td>\n",
       "      <td>1001aa</td>\n",
       "    </tr>\n",
       "    <tr>\n",
       "      <th>1</th>\n",
       "      <td>1001aa</td>\n",
       "      <td>1001aa</td>\n",
       "    </tr>\n",
       "    <tr>\n",
       "      <th>2</th>\n",
       "      <td>1001aa</td>\n",
       "      <td>1001aa</td>\n",
       "    </tr>\n",
       "    <tr>\n",
       "      <th>3</th>\n",
       "      <td>1001aa</td>\n",
       "      <td>cfrfvenbrf</td>\n",
       "    </tr>\n",
       "    <tr>\n",
       "      <th>4</th>\n",
       "      <td>1001aa</td>\n",
       "      <td>chfrfvenbrf</td>\n",
       "    </tr>\n",
       "  </tbody>\n",
       "</table>\n",
       "</div>"
      ],
      "text/plain": [
       "  username         pass\n",
       "0   1001aa       1001aa\n",
       "1   1001aa       1001aa\n",
       "2   1001aa       1001aa\n",
       "3   1001aa   cfrfvenbrf\n",
       "4   1001aa  chfrfvenbrf"
      ]
     },
     "execution_count": 15,
     "metadata": {},
     "output_type": "execute_result"
    }
   ],
   "source": [
    "df.head()"
   ]
  },
  {
   "cell_type": "code",
   "execution_count": 17,
   "id": "50e7a696-51f0-459f-b87b-2d8957f68346",
   "metadata": {},
   "outputs": [],
   "source": [
    "df = df.dropna()"
   ]
  },
  {
   "cell_type": "code",
   "execution_count": 18,
   "id": "36266034-b145-48bb-90a5-17cd52324a6d",
   "metadata": {},
   "outputs": [
    {
     "data": {
      "text/plain": [
       "(277471690, 2)"
      ]
     },
     "execution_count": 18,
     "metadata": {},
     "output_type": "execute_result"
    }
   ],
   "source": [
    "df.shape"
   ]
  },
  {
   "cell_type": "code",
   "execution_count": 20,
   "id": "e59b0f68-85a2-493b-9cc2-395c107b9532",
   "metadata": {},
   "outputs": [],
   "source": [
    "# Count the occurrences of each username\n",
    "counts = df['username'].value_counts()"
   ]
  },
  {
   "cell_type": "code",
   "execution_count": 21,
   "id": "5d241e72-08c9-463d-869a-2ee42d7ea27f",
   "metadata": {},
   "outputs": [],
   "source": [
    "# Get a boolean Series indicating which rows have a username that appears at least 3 times\n",
    "filter = df['username'].isin(counts[counts >= 3].index)"
   ]
  },
  {
   "cell_type": "code",
   "execution_count": 22,
   "id": "0f9281fe-9179-4cdf-9b2b-85a31a7e9537",
   "metadata": {},
   "outputs": [],
   "source": [
    "# Keep only the rows with a username that appears at least 2 times\n",
    "df = df[filter]"
   ]
  },
  {
   "cell_type": "code",
   "execution_count": 23,
   "id": "97f231ab-8793-46b4-88c4-5c989505b267",
   "metadata": {},
   "outputs": [
    {
     "data": {
      "text/plain": [
       "(277253930, 2)"
      ]
     },
     "execution_count": 23,
     "metadata": {},
     "output_type": "execute_result"
    }
   ],
   "source": [
    "df.shape"
   ]
  },
  {
   "cell_type": "code",
   "execution_count": 25,
   "id": "6143d4b1-f808-4faa-b440-6a2f1d0f8f2d",
   "metadata": {},
   "outputs": [],
   "source": [
    "# Split data into train + validation and test sets (90% vs 10%)\n",
    "train_val_df, test_df = train_test_split(df, test_size=0.1, random_state=42)\n",
    "\n",
    "# Split train_val_df into separate training and validation sets (80% vs 20% of initial dataframe)\n",
    "train_df, val_df = train_test_split(train_val_df, test_size=0.1111, random_state=42)\n",
    "\n",
    "# Now we have train_df (80% of data), val_df (10% of data) and test_df (10% of data)"
   ]
  },
  {
   "cell_type": "code",
   "execution_count": 26,
   "id": "5d64f61a-cf78-4d4b-9e49-60ab4b717fc5",
   "metadata": {},
   "outputs": [
    {
     "name": "stdout",
     "output_type": "stream",
     "text": [
      "done\n"
     ]
    }
   ],
   "source": [
    "print(\"done\")"
   ]
  },
  {
   "cell_type": "code",
   "execution_count": 27,
   "id": "cdbebb85-cb56-46d4-993c-963885256245",
   "metadata": {},
   "outputs": [],
   "source": [
    "# Save them to CSV files\n",
    "train_df.to_csv('data/train_100.csv', index=False)\n",
    "val_df.to_csv('data/val_100.csv', index=False)\n",
    "test_df.to_csv('data/test_100.csv', index=False)"
   ]
  },
  {
   "cell_type": "code",
   "execution_count": 28,
   "id": "63f1412e-1bba-4ec2-87d5-fc94c210e388",
   "metadata": {},
   "outputs": [
    {
     "data": {
      "text/plain": [
       "(221805916, 2)"
      ]
     },
     "execution_count": 28,
     "metadata": {},
     "output_type": "execute_result"
    }
   ],
   "source": [
    "train_df.shape"
   ]
  },
  {
   "cell_type": "code",
   "execution_count": 29,
   "id": "7529df0b-4185-4507-a3a1-3cb4abfd6410",
   "metadata": {},
   "outputs": [
    {
     "data": {
      "text/plain": [
       "(27722621, 2)"
      ]
     },
     "execution_count": 29,
     "metadata": {},
     "output_type": "execute_result"
    }
   ],
   "source": [
    "val_df.shape"
   ]
  },
  {
   "cell_type": "code",
   "execution_count": 30,
   "id": "92276aa8-8579-4cb0-ab4c-45d18506ef16",
   "metadata": {},
   "outputs": [
    {
     "data": {
      "text/plain": [
       "(27725393, 2)"
      ]
     },
     "execution_count": 30,
     "metadata": {},
     "output_type": "execute_result"
    }
   ],
   "source": [
    "test_df.shape"
   ]
  },
  {
   "cell_type": "code",
   "execution_count": null,
   "id": "e60659a6-82b5-4ed3-a82e-716f0d9642be",
   "metadata": {},
   "outputs": [],
   "source": []
  }
 ],
 "metadata": {
  "kernelspec": {
   "display_name": "Python 3 (ipykernel)",
   "language": "python",
   "name": "python3"
  },
  "language_info": {
   "codemirror_mode": {
    "name": "ipython",
    "version": 3
   },
   "file_extension": ".py",
   "mimetype": "text/x-python",
   "name": "python",
   "nbconvert_exporter": "python",
   "pygments_lexer": "ipython3",
   "version": "3.10.6"
  }
 },
 "nbformat": 4,
 "nbformat_minor": 5
}
